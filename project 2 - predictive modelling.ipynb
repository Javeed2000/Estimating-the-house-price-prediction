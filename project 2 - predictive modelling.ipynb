{
 "cells": [
  {
   "cell_type": "code",
   "execution_count": 1,
   "id": "cc66531c",
   "metadata": {},
   "outputs": [],
   "source": [
    "import numpy as np\n",
    "import pandas as pd\n",
    "import matplotlib.pyplot as plt\n",
    "%matplotlib inline\n",
    "import seaborn as sns\n",
    "import warnings\n",
    "warnings.filterwarnings(\"ignore\")"
   ]
  },
  {
   "cell_type": "markdown",
   "id": "1fd92774",
   "metadata": {},
   "source": [
    "## Magic bricks data \n",
    "* in this data we understand the price on the following effecting columns on various following modelling techniques"
   ]
  },
  {
   "cell_type": "code",
   "execution_count": 2,
   "id": "464ab51a",
   "metadata": {},
   "outputs": [
    {
     "data": {
      "text/html": [
       "<div>\n",
       "<style scoped>\n",
       "    .dataframe tbody tr th:only-of-type {\n",
       "        vertical-align: middle;\n",
       "    }\n",
       "\n",
       "    .dataframe tbody tr th {\n",
       "        vertical-align: top;\n",
       "    }\n",
       "\n",
       "    .dataframe thead th {\n",
       "        text-align: right;\n",
       "    }\n",
       "</style>\n",
       "<table border=\"1\" class=\"dataframe\">\n",
       "  <thead>\n",
       "    <tr style=\"text-align: right;\">\n",
       "      <th></th>\n",
       "      <th>Area</th>\n",
       "      <th>BHK</th>\n",
       "      <th>Bathroom</th>\n",
       "      <th>Furnishing</th>\n",
       "      <th>Locality</th>\n",
       "      <th>Parking</th>\n",
       "      <th>Price</th>\n",
       "      <th>Status</th>\n",
       "      <th>Transaction</th>\n",
       "      <th>Type</th>\n",
       "      <th>Per_Sqft</th>\n",
       "    </tr>\n",
       "  </thead>\n",
       "  <tbody>\n",
       "    <tr>\n",
       "      <th>0</th>\n",
       "      <td>800.0</td>\n",
       "      <td>3</td>\n",
       "      <td>2.0</td>\n",
       "      <td>Semi-Furnished</td>\n",
       "      <td>Rohini Sector 25</td>\n",
       "      <td>1.0</td>\n",
       "      <td>6500000</td>\n",
       "      <td>Ready_to_move</td>\n",
       "      <td>New_Property</td>\n",
       "      <td>Builder_Floor</td>\n",
       "      <td>NaN</td>\n",
       "    </tr>\n",
       "    <tr>\n",
       "      <th>1</th>\n",
       "      <td>750.0</td>\n",
       "      <td>2</td>\n",
       "      <td>2.0</td>\n",
       "      <td>Semi-Furnished</td>\n",
       "      <td>J R Designers Floors, Rohini Sector 24</td>\n",
       "      <td>1.0</td>\n",
       "      <td>5000000</td>\n",
       "      <td>Ready_to_move</td>\n",
       "      <td>New_Property</td>\n",
       "      <td>Apartment</td>\n",
       "      <td>6667.0</td>\n",
       "    </tr>\n",
       "    <tr>\n",
       "      <th>2</th>\n",
       "      <td>950.0</td>\n",
       "      <td>2</td>\n",
       "      <td>2.0</td>\n",
       "      <td>Furnished</td>\n",
       "      <td>Citizen Apartment, Rohini Sector 13</td>\n",
       "      <td>1.0</td>\n",
       "      <td>15500000</td>\n",
       "      <td>Ready_to_move</td>\n",
       "      <td>Resale</td>\n",
       "      <td>Apartment</td>\n",
       "      <td>6667.0</td>\n",
       "    </tr>\n",
       "    <tr>\n",
       "      <th>3</th>\n",
       "      <td>600.0</td>\n",
       "      <td>2</td>\n",
       "      <td>2.0</td>\n",
       "      <td>Semi-Furnished</td>\n",
       "      <td>Rohini Sector 24</td>\n",
       "      <td>1.0</td>\n",
       "      <td>4200000</td>\n",
       "      <td>Ready_to_move</td>\n",
       "      <td>Resale</td>\n",
       "      <td>Builder_Floor</td>\n",
       "      <td>6667.0</td>\n",
       "    </tr>\n",
       "    <tr>\n",
       "      <th>4</th>\n",
       "      <td>650.0</td>\n",
       "      <td>2</td>\n",
       "      <td>2.0</td>\n",
       "      <td>Semi-Furnished</td>\n",
       "      <td>Rohini Sector 24 carpet area 650 sqft status R...</td>\n",
       "      <td>1.0</td>\n",
       "      <td>6200000</td>\n",
       "      <td>Ready_to_move</td>\n",
       "      <td>New_Property</td>\n",
       "      <td>Builder_Floor</td>\n",
       "      <td>6667.0</td>\n",
       "    </tr>\n",
       "  </tbody>\n",
       "</table>\n",
       "</div>"
      ],
      "text/plain": [
       "    Area  BHK  Bathroom      Furnishing  \\\n",
       "0  800.0    3       2.0  Semi-Furnished   \n",
       "1  750.0    2       2.0  Semi-Furnished   \n",
       "2  950.0    2       2.0       Furnished   \n",
       "3  600.0    2       2.0  Semi-Furnished   \n",
       "4  650.0    2       2.0  Semi-Furnished   \n",
       "\n",
       "                                            Locality  Parking     Price  \\\n",
       "0                                   Rohini Sector 25      1.0   6500000   \n",
       "1             J R Designers Floors, Rohini Sector 24      1.0   5000000   \n",
       "2                Citizen Apartment, Rohini Sector 13      1.0  15500000   \n",
       "3                                   Rohini Sector 24      1.0   4200000   \n",
       "4  Rohini Sector 24 carpet area 650 sqft status R...      1.0   6200000   \n",
       "\n",
       "          Status   Transaction           Type  Per_Sqft  \n",
       "0  Ready_to_move  New_Property  Builder_Floor       NaN  \n",
       "1  Ready_to_move  New_Property      Apartment    6667.0  \n",
       "2  Ready_to_move        Resale      Apartment    6667.0  \n",
       "3  Ready_to_move        Resale  Builder_Floor    6667.0  \n",
       "4  Ready_to_move  New_Property  Builder_Floor    6667.0  "
      ]
     },
     "execution_count": 2,
     "metadata": {},
     "output_type": "execute_result"
    }
   ],
   "source": [
    "df = pd.read_csv(\"MagicBricks.csv\")\n",
    "df.head()"
   ]
  },
  {
   "cell_type": "code",
   "execution_count": 3,
   "id": "74a2866d",
   "metadata": {},
   "outputs": [
    {
     "data": {
      "text/plain": [
       "Index(['Area', 'BHK', 'Bathroom', 'Furnishing', 'Locality', 'Parking', 'Price',\n",
       "       'Status', 'Transaction', 'Type', 'Per_Sqft'],\n",
       "      dtype='object')"
      ]
     },
     "execution_count": 3,
     "metadata": {},
     "output_type": "execute_result"
    }
   ],
   "source": [
    "df.columns"
   ]
  },
  {
   "cell_type": "code",
   "execution_count": 4,
   "id": "ca310887",
   "metadata": {},
   "outputs": [
    {
     "name": "stdout",
     "output_type": "stream",
     "text": [
      "<class 'pandas.core.frame.DataFrame'>\n",
      "RangeIndex: 1259 entries, 0 to 1258\n",
      "Data columns (total 11 columns):\n",
      " #   Column       Non-Null Count  Dtype  \n",
      "---  ------       --------------  -----  \n",
      " 0   Area         1259 non-null   float64\n",
      " 1   BHK          1259 non-null   int64  \n",
      " 2   Bathroom     1257 non-null   float64\n",
      " 3   Furnishing   1254 non-null   object \n",
      " 4   Locality     1259 non-null   object \n",
      " 5   Parking      1226 non-null   float64\n",
      " 6   Price        1259 non-null   int64  \n",
      " 7   Status       1259 non-null   object \n",
      " 8   Transaction  1259 non-null   object \n",
      " 9   Type         1254 non-null   object \n",
      " 10  Per_Sqft     1018 non-null   float64\n",
      "dtypes: float64(4), int64(2), object(5)\n",
      "memory usage: 108.3+ KB\n"
     ]
    }
   ],
   "source": [
    "df.info()"
   ]
  },
  {
   "cell_type": "code",
   "execution_count": 5,
   "id": "3bdcc9b6",
   "metadata": {},
   "outputs": [
    {
     "data": {
      "text/plain": [
       "Area             0\n",
       "BHK              0\n",
       "Bathroom         2\n",
       "Furnishing       5\n",
       "Locality         0\n",
       "Parking         33\n",
       "Price            0\n",
       "Status           0\n",
       "Transaction      0\n",
       "Type             5\n",
       "Per_Sqft       241\n",
       "dtype: int64"
      ]
     },
     "execution_count": 5,
     "metadata": {},
     "output_type": "execute_result"
    }
   ],
   "source": [
    "df.isnull().sum()"
   ]
  },
  {
   "cell_type": "code",
   "execution_count": 6,
   "id": "efa1a075",
   "metadata": {},
   "outputs": [
    {
     "data": {
      "text/html": [
       "<div>\n",
       "<style scoped>\n",
       "    .dataframe tbody tr th:only-of-type {\n",
       "        vertical-align: middle;\n",
       "    }\n",
       "\n",
       "    .dataframe tbody tr th {\n",
       "        vertical-align: top;\n",
       "    }\n",
       "\n",
       "    .dataframe thead th {\n",
       "        text-align: right;\n",
       "    }\n",
       "</style>\n",
       "<table border=\"1\" class=\"dataframe\">\n",
       "  <thead>\n",
       "    <tr style=\"text-align: right;\">\n",
       "      <th></th>\n",
       "      <th>Area</th>\n",
       "      <th>BHK</th>\n",
       "      <th>Bathroom</th>\n",
       "      <th>Furnishing</th>\n",
       "      <th>Locality</th>\n",
       "      <th>Parking</th>\n",
       "      <th>Price</th>\n",
       "      <th>Status</th>\n",
       "      <th>Transaction</th>\n",
       "      <th>Type</th>\n",
       "      <th>Per_Sqft</th>\n",
       "    </tr>\n",
       "  </thead>\n",
       "  <tbody>\n",
       "    <tr>\n",
       "      <th>84</th>\n",
       "      <td>1540.0</td>\n",
       "      <td>3</td>\n",
       "      <td>3.0</td>\n",
       "      <td>Semi-Furnished</td>\n",
       "      <td>Nav Kairali Apartment, Dwarka Sector 3</td>\n",
       "      <td>1.0</td>\n",
       "      <td>14500000</td>\n",
       "      <td>Ready_to_move</td>\n",
       "      <td>Resale</td>\n",
       "      <td>Apartment</td>\n",
       "      <td>3524.0</td>\n",
       "    </tr>\n",
       "    <tr>\n",
       "      <th>92</th>\n",
       "      <td>1450.0</td>\n",
       "      <td>3</td>\n",
       "      <td>3.0</td>\n",
       "      <td>Semi-Furnished</td>\n",
       "      <td>Lajpat Nagar 3</td>\n",
       "      <td>2.0</td>\n",
       "      <td>30000000</td>\n",
       "      <td>Ready_to_move</td>\n",
       "      <td>New_Property</td>\n",
       "      <td>Builder_Floor</td>\n",
       "      <td>NaN</td>\n",
       "    </tr>\n",
       "    <tr>\n",
       "      <th>110</th>\n",
       "      <td>1000.0</td>\n",
       "      <td>2</td>\n",
       "      <td>2.0</td>\n",
       "      <td>Furnished</td>\n",
       "      <td>Lajpat Nagar 3</td>\n",
       "      <td>1.0</td>\n",
       "      <td>20000000</td>\n",
       "      <td>Ready_to_move</td>\n",
       "      <td>Resale</td>\n",
       "      <td>Apartment</td>\n",
       "      <td>20000.0</td>\n",
       "    </tr>\n",
       "    <tr>\n",
       "      <th>120</th>\n",
       "      <td>1500.0</td>\n",
       "      <td>1</td>\n",
       "      <td>NaN</td>\n",
       "      <td>Unfurnished</td>\n",
       "      <td>Lajpat Nagar 2</td>\n",
       "      <td>NaN</td>\n",
       "      <td>13500000</td>\n",
       "      <td>Ready_to_move</td>\n",
       "      <td>Resale</td>\n",
       "      <td>Apartment</td>\n",
       "      <td>NaN</td>\n",
       "    </tr>\n",
       "    <tr>\n",
       "      <th>122</th>\n",
       "      <td>1710.0</td>\n",
       "      <td>3</td>\n",
       "      <td>3.0</td>\n",
       "      <td>Semi-Furnished</td>\n",
       "      <td>Lajpat Nagar 2</td>\n",
       "      <td>4.0</td>\n",
       "      <td>26000000</td>\n",
       "      <td>Ready_to_move</td>\n",
       "      <td>New_Property</td>\n",
       "      <td>Builder_Floor</td>\n",
       "      <td>NaN</td>\n",
       "    </tr>\n",
       "    <tr>\n",
       "      <th>...</th>\n",
       "      <td>...</td>\n",
       "      <td>...</td>\n",
       "      <td>...</td>\n",
       "      <td>...</td>\n",
       "      <td>...</td>\n",
       "      <td>...</td>\n",
       "      <td>...</td>\n",
       "      <td>...</td>\n",
       "      <td>...</td>\n",
       "      <td>...</td>\n",
       "      <td>...</td>\n",
       "    </tr>\n",
       "    <tr>\n",
       "      <th>1164</th>\n",
       "      <td>1300.0</td>\n",
       "      <td>2</td>\n",
       "      <td>2.0</td>\n",
       "      <td>Semi-Furnished</td>\n",
       "      <td>Yamuna Apartment, Alaknanda</td>\n",
       "      <td>1.0</td>\n",
       "      <td>15000000</td>\n",
       "      <td>Ready_to_move</td>\n",
       "      <td>Resale</td>\n",
       "      <td>Apartment</td>\n",
       "      <td>11538.0</td>\n",
       "    </tr>\n",
       "    <tr>\n",
       "      <th>1165</th>\n",
       "      <td>1200.0</td>\n",
       "      <td>2</td>\n",
       "      <td>2.0</td>\n",
       "      <td>Unfurnished</td>\n",
       "      <td>Nilgiri Apartment, Alaknanda</td>\n",
       "      <td>1.0</td>\n",
       "      <td>14300000</td>\n",
       "      <td>Ready_to_move</td>\n",
       "      <td>Resale</td>\n",
       "      <td>Apartment</td>\n",
       "      <td>11538.0</td>\n",
       "    </tr>\n",
       "    <tr>\n",
       "      <th>1166</th>\n",
       "      <td>1300.0</td>\n",
       "      <td>3</td>\n",
       "      <td>2.0</td>\n",
       "      <td>Unfurnished</td>\n",
       "      <td>Nilgiri Apartment, Alaknanda</td>\n",
       "      <td>1.0</td>\n",
       "      <td>18500000</td>\n",
       "      <td>Ready_to_move</td>\n",
       "      <td>Resale</td>\n",
       "      <td>Apartment</td>\n",
       "      <td>11538.0</td>\n",
       "    </tr>\n",
       "    <tr>\n",
       "      <th>1167</th>\n",
       "      <td>1400.0</td>\n",
       "      <td>3</td>\n",
       "      <td>3.0</td>\n",
       "      <td>Furnished</td>\n",
       "      <td>Tara Apartment, Alaknanda carpet area 1400 sqf...</td>\n",
       "      <td>1.0</td>\n",
       "      <td>19000000</td>\n",
       "      <td>Ready_to_move</td>\n",
       "      <td>Resale</td>\n",
       "      <td>Apartment</td>\n",
       "      <td>11538.0</td>\n",
       "    </tr>\n",
       "    <tr>\n",
       "      <th>1168</th>\n",
       "      <td>1400.0</td>\n",
       "      <td>3</td>\n",
       "      <td>3.0</td>\n",
       "      <td>Semi-Furnished</td>\n",
       "      <td>Alaknanda</td>\n",
       "      <td>1.0</td>\n",
       "      <td>19000000</td>\n",
       "      <td>Ready_to_move</td>\n",
       "      <td>Resale</td>\n",
       "      <td>Apartment</td>\n",
       "      <td>11538.0</td>\n",
       "    </tr>\n",
       "  </tbody>\n",
       "</table>\n",
       "<p>83 rows × 11 columns</p>\n",
       "</div>"
      ],
      "text/plain": [
       "        Area  BHK  Bathroom      Furnishing  \\\n",
       "84    1540.0    3       3.0  Semi-Furnished   \n",
       "92    1450.0    3       3.0  Semi-Furnished   \n",
       "110   1000.0    2       2.0       Furnished   \n",
       "120   1500.0    1       NaN     Unfurnished   \n",
       "122   1710.0    3       3.0  Semi-Furnished   \n",
       "...      ...  ...       ...             ...   \n",
       "1164  1300.0    2       2.0  Semi-Furnished   \n",
       "1165  1200.0    2       2.0     Unfurnished   \n",
       "1166  1300.0    3       2.0     Unfurnished   \n",
       "1167  1400.0    3       3.0       Furnished   \n",
       "1168  1400.0    3       3.0  Semi-Furnished   \n",
       "\n",
       "                                               Locality  Parking     Price  \\\n",
       "84               Nav Kairali Apartment, Dwarka Sector 3      1.0  14500000   \n",
       "92                                       Lajpat Nagar 3      2.0  30000000   \n",
       "110                                      Lajpat Nagar 3      1.0  20000000   \n",
       "120                                      Lajpat Nagar 2      NaN  13500000   \n",
       "122                                      Lajpat Nagar 2      4.0  26000000   \n",
       "...                                                 ...      ...       ...   \n",
       "1164                        Yamuna Apartment, Alaknanda      1.0  15000000   \n",
       "1165                       Nilgiri Apartment, Alaknanda      1.0  14300000   \n",
       "1166                       Nilgiri Apartment, Alaknanda      1.0  18500000   \n",
       "1167  Tara Apartment, Alaknanda carpet area 1400 sqf...      1.0  19000000   \n",
       "1168                                          Alaknanda      1.0  19000000   \n",
       "\n",
       "             Status   Transaction           Type  Per_Sqft  \n",
       "84    Ready_to_move        Resale      Apartment    3524.0  \n",
       "92    Ready_to_move  New_Property  Builder_Floor       NaN  \n",
       "110   Ready_to_move        Resale      Apartment   20000.0  \n",
       "120   Ready_to_move        Resale      Apartment       NaN  \n",
       "122   Ready_to_move  New_Property  Builder_Floor       NaN  \n",
       "...             ...           ...            ...       ...  \n",
       "1164  Ready_to_move        Resale      Apartment   11538.0  \n",
       "1165  Ready_to_move        Resale      Apartment   11538.0  \n",
       "1166  Ready_to_move        Resale      Apartment   11538.0  \n",
       "1167  Ready_to_move        Resale      Apartment   11538.0  \n",
       "1168  Ready_to_move        Resale      Apartment   11538.0  \n",
       "\n",
       "[83 rows x 11 columns]"
      ]
     },
     "execution_count": 6,
     "metadata": {},
     "output_type": "execute_result"
    }
   ],
   "source": [
    "df[df.duplicated()]"
   ]
  },
  {
   "cell_type": "code",
   "execution_count": 7,
   "id": "86dc47b5",
   "metadata": {},
   "outputs": [],
   "source": [
    "df = df.drop_duplicates().reset_index(drop=True)"
   ]
  },
  {
   "cell_type": "code",
   "execution_count": 8,
   "id": "fa7430db",
   "metadata": {},
   "outputs": [
    {
     "data": {
      "text/html": [
       "<div>\n",
       "<style scoped>\n",
       "    .dataframe tbody tr th:only-of-type {\n",
       "        vertical-align: middle;\n",
       "    }\n",
       "\n",
       "    .dataframe tbody tr th {\n",
       "        vertical-align: top;\n",
       "    }\n",
       "\n",
       "    .dataframe thead th {\n",
       "        text-align: right;\n",
       "    }\n",
       "</style>\n",
       "<table border=\"1\" class=\"dataframe\">\n",
       "  <thead>\n",
       "    <tr style=\"text-align: right;\">\n",
       "      <th></th>\n",
       "      <th>Area</th>\n",
       "      <th>BHK</th>\n",
       "      <th>Bathroom</th>\n",
       "      <th>Furnishing</th>\n",
       "      <th>Locality</th>\n",
       "      <th>Parking</th>\n",
       "      <th>Price</th>\n",
       "      <th>Status</th>\n",
       "      <th>Transaction</th>\n",
       "      <th>Type</th>\n",
       "      <th>Per_Sqft</th>\n",
       "    </tr>\n",
       "  </thead>\n",
       "  <tbody>\n",
       "    <tr>\n",
       "      <th>1</th>\n",
       "      <td>750.0</td>\n",
       "      <td>2</td>\n",
       "      <td>2.0</td>\n",
       "      <td>Semi-Furnished</td>\n",
       "      <td>J R Designers Floors, Rohini Sector 24</td>\n",
       "      <td>1.0</td>\n",
       "      <td>5000000</td>\n",
       "      <td>Ready_to_move</td>\n",
       "      <td>New_Property</td>\n",
       "      <td>Apartment</td>\n",
       "      <td>6667.0</td>\n",
       "    </tr>\n",
       "    <tr>\n",
       "      <th>2</th>\n",
       "      <td>950.0</td>\n",
       "      <td>2</td>\n",
       "      <td>2.0</td>\n",
       "      <td>Furnished</td>\n",
       "      <td>Citizen Apartment, Rohini Sector 13</td>\n",
       "      <td>1.0</td>\n",
       "      <td>15500000</td>\n",
       "      <td>Ready_to_move</td>\n",
       "      <td>Resale</td>\n",
       "      <td>Apartment</td>\n",
       "      <td>6667.0</td>\n",
       "    </tr>\n",
       "    <tr>\n",
       "      <th>3</th>\n",
       "      <td>600.0</td>\n",
       "      <td>2</td>\n",
       "      <td>2.0</td>\n",
       "      <td>Semi-Furnished</td>\n",
       "      <td>Rohini Sector 24</td>\n",
       "      <td>1.0</td>\n",
       "      <td>4200000</td>\n",
       "      <td>Ready_to_move</td>\n",
       "      <td>Resale</td>\n",
       "      <td>Builder_Floor</td>\n",
       "      <td>6667.0</td>\n",
       "    </tr>\n",
       "    <tr>\n",
       "      <th>4</th>\n",
       "      <td>650.0</td>\n",
       "      <td>2</td>\n",
       "      <td>2.0</td>\n",
       "      <td>Semi-Furnished</td>\n",
       "      <td>Rohini Sector 24 carpet area 650 sqft status R...</td>\n",
       "      <td>1.0</td>\n",
       "      <td>6200000</td>\n",
       "      <td>Ready_to_move</td>\n",
       "      <td>New_Property</td>\n",
       "      <td>Builder_Floor</td>\n",
       "      <td>6667.0</td>\n",
       "    </tr>\n",
       "    <tr>\n",
       "      <th>5</th>\n",
       "      <td>1300.0</td>\n",
       "      <td>4</td>\n",
       "      <td>3.0</td>\n",
       "      <td>Semi-Furnished</td>\n",
       "      <td>Rohini Sector 24</td>\n",
       "      <td>1.0</td>\n",
       "      <td>15500000</td>\n",
       "      <td>Ready_to_move</td>\n",
       "      <td>New_Property</td>\n",
       "      <td>Builder_Floor</td>\n",
       "      <td>6667.0</td>\n",
       "    </tr>\n",
       "    <tr>\n",
       "      <th>...</th>\n",
       "      <td>...</td>\n",
       "      <td>...</td>\n",
       "      <td>...</td>\n",
       "      <td>...</td>\n",
       "      <td>...</td>\n",
       "      <td>...</td>\n",
       "      <td>...</td>\n",
       "      <td>...</td>\n",
       "      <td>...</td>\n",
       "      <td>...</td>\n",
       "      <td>...</td>\n",
       "    </tr>\n",
       "    <tr>\n",
       "      <th>1171</th>\n",
       "      <td>4118.0</td>\n",
       "      <td>4</td>\n",
       "      <td>5.0</td>\n",
       "      <td>Unfurnished</td>\n",
       "      <td>Chittaranjan Park</td>\n",
       "      <td>3.0</td>\n",
       "      <td>55000000</td>\n",
       "      <td>Ready_to_move</td>\n",
       "      <td>New_Property</td>\n",
       "      <td>Builder_Floor</td>\n",
       "      <td>12916.0</td>\n",
       "    </tr>\n",
       "    <tr>\n",
       "      <th>1172</th>\n",
       "      <td>1050.0</td>\n",
       "      <td>3</td>\n",
       "      <td>2.0</td>\n",
       "      <td>Semi-Furnished</td>\n",
       "      <td>Chittaranjan Park</td>\n",
       "      <td>3.0</td>\n",
       "      <td>12500000</td>\n",
       "      <td>Ready_to_move</td>\n",
       "      <td>Resale</td>\n",
       "      <td>Builder_Floor</td>\n",
       "      <td>12916.0</td>\n",
       "    </tr>\n",
       "    <tr>\n",
       "      <th>1173</th>\n",
       "      <td>875.0</td>\n",
       "      <td>3</td>\n",
       "      <td>3.0</td>\n",
       "      <td>Semi-Furnished</td>\n",
       "      <td>Chittaranjan Park</td>\n",
       "      <td>3.0</td>\n",
       "      <td>17500000</td>\n",
       "      <td>Ready_to_move</td>\n",
       "      <td>New_Property</td>\n",
       "      <td>Builder_Floor</td>\n",
       "      <td>12916.0</td>\n",
       "    </tr>\n",
       "    <tr>\n",
       "      <th>1174</th>\n",
       "      <td>990.0</td>\n",
       "      <td>2</td>\n",
       "      <td>2.0</td>\n",
       "      <td>Unfurnished</td>\n",
       "      <td>Chittaranjan Park Block A</td>\n",
       "      <td>1.0</td>\n",
       "      <td>11500000</td>\n",
       "      <td>Ready_to_move</td>\n",
       "      <td>Resale</td>\n",
       "      <td>Builder_Floor</td>\n",
       "      <td>12916.0</td>\n",
       "    </tr>\n",
       "    <tr>\n",
       "      <th>1175</th>\n",
       "      <td>11050.0</td>\n",
       "      <td>3</td>\n",
       "      <td>3.0</td>\n",
       "      <td>Unfurnished</td>\n",
       "      <td>Chittaranjan Park</td>\n",
       "      <td>1.0</td>\n",
       "      <td>18500000</td>\n",
       "      <td>Ready_to_move</td>\n",
       "      <td>New_Property</td>\n",
       "      <td>Builder_Floor</td>\n",
       "      <td>12916.0</td>\n",
       "    </tr>\n",
       "  </tbody>\n",
       "</table>\n",
       "<p>1175 rows × 11 columns</p>\n",
       "</div>"
      ],
      "text/plain": [
       "         Area  BHK  Bathroom      Furnishing  \\\n",
       "1       750.0    2       2.0  Semi-Furnished   \n",
       "2       950.0    2       2.0       Furnished   \n",
       "3       600.0    2       2.0  Semi-Furnished   \n",
       "4       650.0    2       2.0  Semi-Furnished   \n",
       "5      1300.0    4       3.0  Semi-Furnished   \n",
       "...       ...  ...       ...             ...   \n",
       "1171   4118.0    4       5.0     Unfurnished   \n",
       "1172   1050.0    3       2.0  Semi-Furnished   \n",
       "1173    875.0    3       3.0  Semi-Furnished   \n",
       "1174    990.0    2       2.0     Unfurnished   \n",
       "1175  11050.0    3       3.0     Unfurnished   \n",
       "\n",
       "                                               Locality  Parking     Price  \\\n",
       "1                J R Designers Floors, Rohini Sector 24      1.0   5000000   \n",
       "2                   Citizen Apartment, Rohini Sector 13      1.0  15500000   \n",
       "3                                      Rohini Sector 24      1.0   4200000   \n",
       "4     Rohini Sector 24 carpet area 650 sqft status R...      1.0   6200000   \n",
       "5                                      Rohini Sector 24      1.0  15500000   \n",
       "...                                                 ...      ...       ...   \n",
       "1171                                  Chittaranjan Park      3.0  55000000   \n",
       "1172                                  Chittaranjan Park      3.0  12500000   \n",
       "1173                                  Chittaranjan Park      3.0  17500000   \n",
       "1174                          Chittaranjan Park Block A      1.0  11500000   \n",
       "1175                                  Chittaranjan Park      1.0  18500000   \n",
       "\n",
       "             Status   Transaction           Type  Per_Sqft  \n",
       "1     Ready_to_move  New_Property      Apartment    6667.0  \n",
       "2     Ready_to_move        Resale      Apartment    6667.0  \n",
       "3     Ready_to_move        Resale  Builder_Floor    6667.0  \n",
       "4     Ready_to_move  New_Property  Builder_Floor    6667.0  \n",
       "5     Ready_to_move  New_Property  Builder_Floor    6667.0  \n",
       "...             ...           ...            ...       ...  \n",
       "1171  Ready_to_move  New_Property  Builder_Floor   12916.0  \n",
       "1172  Ready_to_move        Resale  Builder_Floor   12916.0  \n",
       "1173  Ready_to_move  New_Property  Builder_Floor   12916.0  \n",
       "1174  Ready_to_move        Resale  Builder_Floor   12916.0  \n",
       "1175  Ready_to_move  New_Property  Builder_Floor   12916.0  \n",
       "\n",
       "[1175 rows x 11 columns]"
      ]
     },
     "execution_count": 8,
     "metadata": {},
     "output_type": "execute_result"
    }
   ],
   "source": [
    "df.drop(labels =[0],axis=0,inplace=True)\n",
    "df"
   ]
  },
  {
   "cell_type": "markdown",
   "id": "c2eb4cb9",
   "metadata": {},
   "source": [
    "## Data Cleaning\n",
    "* In this data cleaning we clean the data on the following columns"
   ]
  },
  {
   "cell_type": "code",
   "execution_count": 10,
   "id": "8742d873",
   "metadata": {},
   "outputs": [],
   "source": [
    "df[[\"Transaction\"]]= df[\"Transaction\"].str.split(\",\",1,expand=True)"
   ]
  },
  {
   "cell_type": "code",
   "execution_count": 16,
   "id": "2b57e031",
   "metadata": {},
   "outputs": [
    {
     "data": {
      "text/html": [
       "<div>\n",
       "<style scoped>\n",
       "    .dataframe tbody tr th:only-of-type {\n",
       "        vertical-align: middle;\n",
       "    }\n",
       "\n",
       "    .dataframe tbody tr th {\n",
       "        vertical-align: top;\n",
       "    }\n",
       "\n",
       "    .dataframe thead th {\n",
       "        text-align: right;\n",
       "    }\n",
       "</style>\n",
       "<table border=\"1\" class=\"dataframe\">\n",
       "  <thead>\n",
       "    <tr style=\"text-align: right;\">\n",
       "      <th></th>\n",
       "      <th>Area</th>\n",
       "      <th>BHK</th>\n",
       "      <th>Bathroom</th>\n",
       "      <th>Furnishing</th>\n",
       "      <th>Locality</th>\n",
       "      <th>Parking</th>\n",
       "      <th>Price</th>\n",
       "      <th>Status</th>\n",
       "      <th>Transaction</th>\n",
       "      <th>Type</th>\n",
       "      <th>Per_Sqft</th>\n",
       "    </tr>\n",
       "  </thead>\n",
       "  <tbody>\n",
       "    <tr>\n",
       "      <th>1</th>\n",
       "      <td>750.0</td>\n",
       "      <td>2</td>\n",
       "      <td>2.0</td>\n",
       "      <td>Semi-Furnished</td>\n",
       "      <td>J R Designers Floors, Rohini Sector 24</td>\n",
       "      <td>1.0</td>\n",
       "      <td>5000000</td>\n",
       "      <td>Ready_to_move</td>\n",
       "      <td>New_Property</td>\n",
       "      <td>Apartment</td>\n",
       "      <td>6667.0</td>\n",
       "    </tr>\n",
       "    <tr>\n",
       "      <th>2</th>\n",
       "      <td>950.0</td>\n",
       "      <td>2</td>\n",
       "      <td>2.0</td>\n",
       "      <td>Furnished</td>\n",
       "      <td>Citizen Apartment, Rohini Sector 13</td>\n",
       "      <td>1.0</td>\n",
       "      <td>15500000</td>\n",
       "      <td>Ready_to_move</td>\n",
       "      <td>Resale</td>\n",
       "      <td>Apartment</td>\n",
       "      <td>6667.0</td>\n",
       "    </tr>\n",
       "    <tr>\n",
       "      <th>3</th>\n",
       "      <td>600.0</td>\n",
       "      <td>2</td>\n",
       "      <td>2.0</td>\n",
       "      <td>Semi-Furnished</td>\n",
       "      <td>Rohini Sector 24</td>\n",
       "      <td>1.0</td>\n",
       "      <td>4200000</td>\n",
       "      <td>Ready_to_move</td>\n",
       "      <td>Resale</td>\n",
       "      <td>Builder_Floor</td>\n",
       "      <td>6667.0</td>\n",
       "    </tr>\n",
       "    <tr>\n",
       "      <th>4</th>\n",
       "      <td>650.0</td>\n",
       "      <td>2</td>\n",
       "      <td>2.0</td>\n",
       "      <td>Semi-Furnished</td>\n",
       "      <td>Rohini Sector 24 carpet area 650 sqft status R...</td>\n",
       "      <td>1.0</td>\n",
       "      <td>6200000</td>\n",
       "      <td>Ready_to_move</td>\n",
       "      <td>New_Property</td>\n",
       "      <td>Builder_Floor</td>\n",
       "      <td>6667.0</td>\n",
       "    </tr>\n",
       "    <tr>\n",
       "      <th>5</th>\n",
       "      <td>1300.0</td>\n",
       "      <td>4</td>\n",
       "      <td>3.0</td>\n",
       "      <td>Semi-Furnished</td>\n",
       "      <td>Rohini Sector 24</td>\n",
       "      <td>1.0</td>\n",
       "      <td>15500000</td>\n",
       "      <td>Ready_to_move</td>\n",
       "      <td>New_Property</td>\n",
       "      <td>Builder_Floor</td>\n",
       "      <td>6667.0</td>\n",
       "    </tr>\n",
       "  </tbody>\n",
       "</table>\n",
       "</div>"
      ],
      "text/plain": [
       "     Area  BHK  Bathroom      Furnishing  \\\n",
       "1   750.0    2       2.0  Semi-Furnished   \n",
       "2   950.0    2       2.0       Furnished   \n",
       "3   600.0    2       2.0  Semi-Furnished   \n",
       "4   650.0    2       2.0  Semi-Furnished   \n",
       "5  1300.0    4       3.0  Semi-Furnished   \n",
       "\n",
       "                                            Locality  Parking     Price  \\\n",
       "1             J R Designers Floors, Rohini Sector 24      1.0   5000000   \n",
       "2                Citizen Apartment, Rohini Sector 13      1.0  15500000   \n",
       "3                                   Rohini Sector 24      1.0   4200000   \n",
       "4  Rohini Sector 24 carpet area 650 sqft status R...      1.0   6200000   \n",
       "5                                   Rohini Sector 24      1.0  15500000   \n",
       "\n",
       "          Status   Transaction           Type  Per_Sqft  \n",
       "1  Ready_to_move  New_Property      Apartment    6667.0  \n",
       "2  Ready_to_move        Resale      Apartment    6667.0  \n",
       "3  Ready_to_move        Resale  Builder_Floor    6667.0  \n",
       "4  Ready_to_move  New_Property  Builder_Floor    6667.0  \n",
       "5  Ready_to_move  New_Property  Builder_Floor    6667.0  "
      ]
     },
     "execution_count": 16,
     "metadata": {},
     "output_type": "execute_result"
    }
   ],
   "source": [
    "df.head()"
   ]
  },
  {
   "cell_type": "code",
   "execution_count": null,
   "id": "c4cdf3b7",
   "metadata": {},
   "outputs": [],
   "source": [
    "for i in range(len(df.area_sft)):\n",
    "    try:\n",
    "        splits = df.area_sft[i].strip().split(\" \")\n",
    "        #print(i,splits)\n",
    "        if splits[1]=='sqft' or splits[1]=='sqyrd':\n",
    "            df['area_sft'][i] = float(splits[0])\n",
    "        else:\n",
    "            df['area_sft'][i] = float(splits[0])\n",
    "    except:\n",
    "        continue"
   ]
  },
  {
   "cell_type": "code",
   "execution_count": null,
   "id": "3043cc7a",
   "metadata": {},
   "outputs": [],
   "source": [
    "df[\"area_sft\"].fillna(method = \"ffill\",inplace=True)"
   ]
  },
  {
   "cell_type": "code",
   "execution_count": null,
   "id": "3f675c58",
   "metadata": {},
   "outputs": [],
   "source": [
    "df[\"area_sft\"].fillna(1050.0,inplace=True)"
   ]
  },
  {
   "cell_type": "code",
   "execution_count": null,
   "id": "773308ac",
   "metadata": {},
   "outputs": [],
   "source": [
    "df[\"area_sft\"]"
   ]
  },
  {
   "cell_type": "code",
   "execution_count": null,
   "id": "539009fc",
   "metadata": {},
   "outputs": [],
   "source": [
    "df.Price_persft.unique()"
   ]
  },
  {
   "cell_type": "code",
   "execution_count": null,
   "id": "a62b4a0e",
   "metadata": {},
   "outputs": [],
   "source": [
    "df.Price_persft = df.Price_persft.str.strip('₹')"
   ]
  },
  {
   "cell_type": "code",
   "execution_count": null,
   "id": "86616032",
   "metadata": {},
   "outputs": [],
   "source": [
    "df.price_persft = df.Price_persft.str.strip(\"[',']\")"
   ]
  },
  {
   "cell_type": "code",
   "execution_count": null,
   "id": "5307842b",
   "metadata": {},
   "outputs": [],
   "source": [
    "for i in range(len(df.Price_persft)):\n",
    "    try:\n",
    "        splits = df.Price_persft[i].strip().split(\",\")\n",
    "        #print(i,splits)\n",
    "        if splits[1]=='/sqft' or splits[1]=='/SQFT':\n",
    "            df['Price_persft'][i] = float(splits[0])\n",
    "        else:\n",
    "            df['Price_persft'][i] = float(splits[0])\n",
    "    except:\n",
    "        continue"
   ]
  },
  {
   "cell_type": "code",
   "execution_count": null,
   "id": "ca06ccc0",
   "metadata": {},
   "outputs": [],
   "source": [
    "df[\"Price_persft\"].fillna(method = \"ffill\",inplace=True)"
   ]
  },
  {
   "cell_type": "code",
   "execution_count": null,
   "id": "ed22e4a9",
   "metadata": {},
   "outputs": [],
   "source": [
    "df[\"Price_persft\"].fillna(11.0,inplace=True)"
   ]
  },
  {
   "cell_type": "code",
   "execution_count": null,
   "id": "68929c4e",
   "metadata": {},
   "outputs": [],
   "source": [
    "df.Price_persft.unique()"
   ]
  },
  {
   "cell_type": "code",
   "execution_count": null,
   "id": "61c14f61",
   "metadata": {},
   "outputs": [],
   "source": [
    "df.head()"
   ]
  },
  {
   "cell_type": "code",
   "execution_count": null,
   "id": "9d335e21",
   "metadata": {},
   "outputs": [],
   "source": [
    "df.price = df.price.str.strip('₹')"
   ]
  },
  {
   "cell_type": "code",
   "execution_count": null,
   "id": "1c47446d",
   "metadata": {},
   "outputs": [],
   "source": [
    "df.price.unique()"
   ]
  },
  {
   "cell_type": "code",
   "execution_count": null,
   "id": "9e4cb417",
   "metadata": {},
   "outputs": [],
   "source": [
    "for i in range(len(df.price)):\n",
    "    try:\n",
    "        splits = df.price[i].strip().split(\" \")\n",
    "        #print(i,splits)\n",
    "        if splits[1]=='Cr' or splits[1]==\"CR\":\n",
    "            df['price'][i] = float(splits[0])*100\n",
    "        else:\n",
    "            df['price'][i] = float(splits[0])\n",
    "    except:  \n",
    "        continue"
   ]
  },
  {
   "cell_type": "code",
   "execution_count": null,
   "id": "2d2342f1",
   "metadata": {},
   "outputs": [],
   "source": [
    "df.price.unique()"
   ]
  },
  {
   "cell_type": "code",
   "execution_count": null,
   "id": "ea5113a3",
   "metadata": {},
   "outputs": [],
   "source": [
    "df[\"price\"]"
   ]
  },
  {
   "cell_type": "code",
   "execution_count": null,
   "id": "4498f84c",
   "metadata": {},
   "outputs": [],
   "source": [
    "df[\"Bedrooms\"].unique()"
   ]
  },
  {
   "cell_type": "code",
   "execution_count": null,
   "id": "fe19cd53",
   "metadata": {},
   "outputs": [],
   "source": [
    "for i in range(len(df.Bedrooms)):\n",
    "    try:\n",
    "        splits = df.Bedrooms[i].strip().split(\" \")\n",
    "        #print(i,splits)\n",
    "        if splits[1]=='See Dimensions' or splits[1]=='SEE DIMENSIONS':\n",
    "            df['Bedrooms'][i] = float(splits[0])\n",
    "        else:\n",
    "            df['Bedrooms'][i] = float(splits[0])\n",
    "    except:\n",
    "        continue"
   ]
  },
  {
   "cell_type": "code",
   "execution_count": null,
   "id": "d72ad291",
   "metadata": {},
   "outputs": [],
   "source": [
    "df.Parking.unique()"
   ]
  },
  {
   "cell_type": "code",
   "execution_count": null,
   "id": "ecdc14e0",
   "metadata": {},
   "outputs": [],
   "source": [
    "for i in range(len(df.Parking)):\n",
    "    try:\n",
    "        splits = df.Parking[i].strip().split(\" \")\n",
    "        #print(i,splits)\n",
    "        if splits[1]=='Covered' or splits[1]=='Open':\n",
    "            df['Parking'][i] = float(splits[0])\n",
    "        else:\n",
    "            df['Parking'][i] = float(splits[0])\n",
    "    except:\n",
    "        continue"
   ]
  },
  {
   "cell_type": "code",
   "execution_count": null,
   "id": "e45aefa8",
   "metadata": {},
   "outputs": [],
   "source": [
    "df = df.astype({\"Bedrooms\":\"float\",\"Bathrooms\":\"float\"})\n",
    "df.head()"
   ]
  },
  {
   "cell_type": "code",
   "execution_count": null,
   "id": "0090ab50",
   "metadata": {},
   "outputs": [],
   "source": [
    "df.head()"
   ]
  },
  {
   "cell_type": "code",
   "execution_count": null,
   "id": "5369496a",
   "metadata": {},
   "outputs": [],
   "source": [
    "df.drop(labels=[1076],axis=0,inplace=True)"
   ]
  },
  {
   "cell_type": "code",
   "execution_count": null,
   "id": "8d67855c",
   "metadata": {},
   "outputs": [],
   "source": [
    "df.info()"
   ]
  },
  {
   "cell_type": "code",
   "execution_count": null,
   "id": "0b0b6ce5",
   "metadata": {},
   "outputs": [],
   "source": [
    "df.drop([\"Builder\",\"project_name\",\"Amenties\",\"Legal\",\"Area\",\"Address\",\"Super_area\",\"Stonetype\",\"city\",\"Status\",\"Flooring\",\"Lift\",\"City\"],axis=1,inplace=True)"
   ]
  },
  {
   "cell_type": "markdown",
   "id": "6498cb58",
   "metadata": {},
   "source": [
    "# FILL THE MISSING VALUES"
   ]
  },
  {
   "cell_type": "code",
   "execution_count": null,
   "id": "2b3cf02a",
   "metadata": {},
   "outputs": [],
   "source": [
    "df.isnull().sum()"
   ]
  },
  {
   "cell_type": "code",
   "execution_count": null,
   "id": "9a5e5009",
   "metadata": {},
   "outputs": [],
   "source": [
    "df= df.fillna(method = \"ffill\")\n",
    "df.head()"
   ]
  },
  {
   "cell_type": "code",
   "execution_count": null,
   "id": "148a97b8",
   "metadata": {},
   "outputs": [],
   "source": [
    "df.isnull().sum()"
   ]
  },
  {
   "cell_type": "markdown",
   "id": "ad96ca2d",
   "metadata": {},
   "source": [
    "## EDA AND DATA VISUALIZATION\n",
    "* In this data we observe the relation between the which factors effecting on the price"
   ]
  },
  {
   "cell_type": "markdown",
   "id": "60eab37d",
   "metadata": {},
   "source": [
    "## UNIVARIATE (Single variable)"
   ]
  },
  {
   "cell_type": "code",
   "execution_count": null,
   "id": "8da37b69",
   "metadata": {},
   "outputs": [],
   "source": [
    "plt.figure(figsize=(20,10))\n",
    "sns.displot(df['Bedrooms'])\n",
    "plt.show()"
   ]
  },
  {
   "cell_type": "code",
   "execution_count": null,
   "id": "093e67a3",
   "metadata": {},
   "outputs": [],
   "source": [
    "sns.displot(df[\"Bathrooms\"])\n",
    "plt.show()"
   ]
  },
  {
   "cell_type": "code",
   "execution_count": null,
   "id": "d247470a",
   "metadata": {},
   "outputs": [],
   "source": [
    "sns.displot(df[\"Transaction\"])\n",
    "plt.show()"
   ]
  },
  {
   "cell_type": "code",
   "execution_count": null,
   "id": "f21daf19",
   "metadata": {},
   "outputs": [],
   "source": [
    "sns.displot(df[\"Loanoffered\"])\n",
    "plt.show()"
   ]
  },
  {
   "cell_type": "code",
   "execution_count": null,
   "id": "1a82178c",
   "metadata": {},
   "outputs": [],
   "source": [
    "sns.displot(df[\"area_sft\"])\n",
    "plt.show()"
   ]
  },
  {
   "cell_type": "markdown",
   "id": "9b03021a",
   "metadata": {},
   "source": [
    "## BI-variate analysis(Two variables)"
   ]
  },
  {
   "cell_type": "code",
   "execution_count": null,
   "id": "a336d727",
   "metadata": {},
   "outputs": [],
   "source": [
    "plt.figure(figsize=(10,8))\n",
    "sns.scatterplot(x=df[\"Bathrooms\"],y=df[\"price\"])\n",
    "plt.show()"
   ]
  },
  {
   "cell_type": "code",
   "execution_count": null,
   "id": "0d9e7c7c",
   "metadata": {},
   "outputs": [],
   "source": [
    "plt.figure(figsize=(10,8))\n",
    "sns.scatterplot(x=df[\"Transaction\"],y=df[\"price\"])\n",
    "plt.show()"
   ]
  },
  {
   "cell_type": "code",
   "execution_count": null,
   "id": "2b538824",
   "metadata": {},
   "outputs": [],
   "source": [
    "plt.figure(figsize=(30,15))\n",
    "sns.jointplot(y=\"price\",x =\"Bathrooms\",data=df)\n",
    "plt.show()"
   ]
  },
  {
   "cell_type": "code",
   "execution_count": null,
   "id": "5943e26a",
   "metadata": {},
   "outputs": [],
   "source": [
    "sns.catplot(y=\"price\",x =\"Transaction\",data=df,kind=\"bar\")\n",
    "plt.show()"
   ]
  },
  {
   "cell_type": "code",
   "execution_count": null,
   "id": "f59b4111",
   "metadata": {},
   "outputs": [],
   "source": [
    "plt.figure(figsize=(10,8))\n",
    "sns.catplot(x=\"Bedrooms\",y=\"price\",kind=\"bar\",data=df)\n",
    "plt.show()"
   ]
  },
  {
   "cell_type": "code",
   "execution_count": null,
   "id": "7f9b2db6",
   "metadata": {},
   "outputs": [],
   "source": [
    "sns.catplot(y=\"price\",x =\"Transaction\",data=df,kind=\"bar\")\n",
    "plt.show()"
   ]
  },
  {
   "cell_type": "code",
   "execution_count": null,
   "id": "86840929",
   "metadata": {},
   "outputs": [],
   "source": [
    "sns.catplot(x=\"Transaction\",y = \"price\",data=df,kind=\"bar\",hue=\"Loanoffered\")\n",
    "plt.show()"
   ]
  },
  {
   "cell_type": "code",
   "execution_count": null,
   "id": "1b88f6d1",
   "metadata": {},
   "outputs": [],
   "source": [
    "plt.figure(figsize=(30,15))\n",
    "sns.catplot(x=\"Bathrooms\",y=\"price\",data=df,hue =\"Parking\",kind=\"bar\")\n",
    "plt.show()"
   ]
  },
  {
   "cell_type": "code",
   "execution_count": null,
   "id": "6f500c08",
   "metadata": {},
   "outputs": [],
   "source": [
    "sns.catplot(x=\"Bedrooms\",y=\"price\",data=df,hue=\"Parking\",kind=\"bar\")\n",
    "plt.show()"
   ]
  },
  {
   "cell_type": "code",
   "execution_count": null,
   "id": "8f05fed7",
   "metadata": {},
   "outputs": [],
   "source": [
    "plt.figure(figsize=(15,10))\n",
    "sns.catplot(x=\"Transaction\",y=\"price\",data=df,hue=\"Loanoffered\",kind=\"bar\")\n",
    "plt.show()"
   ]
  },
  {
   "cell_type": "code",
   "execution_count": null,
   "id": "67331a4d",
   "metadata": {},
   "outputs": [],
   "source": [
    "plt.figure(figsize=(20,10))\n",
    "sns.catplot(x=\"Transaction\",y=\"price\",data=df,hue=\"Loanoffered\")\n",
    "plt.show()"
   ]
  },
  {
   "cell_type": "code",
   "execution_count": null,
   "id": "f84416ed",
   "metadata": {},
   "outputs": [],
   "source": [
    "sns.pairplot(df)\n",
    "plt.show()"
   ]
  },
  {
   "cell_type": "code",
   "execution_count": null,
   "id": "5039987f",
   "metadata": {},
   "outputs": [],
   "source": [
    "df['Parking'].replace('None', np.nan, inplace=True)"
   ]
  },
  {
   "cell_type": "code",
   "execution_count": null,
   "id": "0d32ab96",
   "metadata": {},
   "outputs": [],
   "source": [
    "df['Parking'] = df['Parking'].fillna(0)"
   ]
  },
  {
   "cell_type": "code",
   "execution_count": null,
   "id": "010c52cc",
   "metadata": {},
   "outputs": [],
   "source": [
    "df.head()"
   ]
  },
  {
   "cell_type": "code",
   "execution_count": null,
   "id": "343bbc06",
   "metadata": {},
   "outputs": [],
   "source": [
    "df.describe()"
   ]
  },
  {
   "cell_type": "code",
   "execution_count": null,
   "id": "9662b130",
   "metadata": {},
   "outputs": [],
   "source": [
    "df.head()"
   ]
  },
  {
   "cell_type": "code",
   "execution_count": null,
   "id": "fcb6b513",
   "metadata": {},
   "outputs": [],
   "source": [
    "corr = df.corr()\n",
    "corr"
   ]
  },
  {
   "cell_type": "code",
   "execution_count": null,
   "id": "be2f6141",
   "metadata": {},
   "outputs": [],
   "source": [
    "from sklearn.preprocessing import LabelEncoder\n",
    "le = LabelEncoder()\n",
    "df[\"Transaction\"] = le.fit_transform(df[\"Transaction\"])\n",
    "df[\"Furnished\"] = le.fit_transform(df[\"Furnished\"])\n",
    "df[\"Loanoffered\"] = le.fit_transform(df[\"Loanoffered\"])"
   ]
  },
  {
   "cell_type": "code",
   "execution_count": null,
   "id": "6bc8b746",
   "metadata": {},
   "outputs": [],
   "source": [
    "df.head()"
   ]
  },
  {
   "cell_type": "code",
   "execution_count": null,
   "id": "5d3b19f3",
   "metadata": {},
   "outputs": [],
   "source": []
  },
  {
   "cell_type": "markdown",
   "id": "f5503717",
   "metadata": {},
   "source": [
    "## Removing Outliers\n",
    "* we can remove outliers because it causes disturbances in the data"
   ]
  },
  {
   "cell_type": "code",
   "execution_count": null,
   "id": "882a030e",
   "metadata": {},
   "outputs": [],
   "source": [
    "sns.boxplot(df.Bedrooms)\n",
    "plt.title(\"BOXPLOT\")\n",
    "plt.show()"
   ]
  },
  {
   "cell_type": "code",
   "execution_count": null,
   "id": "abe76606",
   "metadata": {},
   "outputs": [],
   "source": [
    "sns.boxplot(df.Bathrooms)\n",
    "plt.title(\"BOXPLOT\")\n",
    "plt.show()"
   ]
  },
  {
   "cell_type": "code",
   "execution_count": null,
   "id": "10546b46",
   "metadata": {},
   "outputs": [],
   "source": [
    "sns.boxplot(df.Parking)\n",
    "plt.show()"
   ]
  },
  {
   "cell_type": "code",
   "execution_count": null,
   "id": "9d4c3f4e",
   "metadata": {},
   "outputs": [],
   "source": [
    "sns.boxplot(df.area_sft)\n",
    "plt.show()"
   ]
  },
  {
   "cell_type": "code",
   "execution_count": null,
   "id": "f43d06bd",
   "metadata": {},
   "outputs": [],
   "source": [
    "sns.boxplot(df.Price_persft)\n",
    "plt.show()"
   ]
  },
  {
   "cell_type": "code",
   "execution_count": null,
   "id": "479d8940",
   "metadata": {},
   "outputs": [],
   "source": [
    "from feature_engine.outliers import Winsorizer\n",
    "win = Winsorizer(capping_method =\"iqr\",tail = \"both\",fold = 1.5,variables=['Bedrooms'])\n",
    "win_t = win.fit_transform(df[[\"Bedrooms\"]])\n",
    "print(win.right_tail_caps_)"
   ]
  },
  {
   "cell_type": "code",
   "execution_count": null,
   "id": "ba717cd5",
   "metadata": {},
   "outputs": [],
   "source": [
    "win = Winsorizer(capping_method = \"iqr\",tail = \"both\",fold = 1.5,variables=[\"Bathrooms\"])\n",
    "win_t = win.fit_transform(df[[\"Bathrooms\"]])\n",
    "print(win.right_tail_caps_)"
   ]
  },
  {
   "cell_type": "code",
   "execution_count": null,
   "id": "639cc143",
   "metadata": {},
   "outputs": [],
   "source": [
    "win = Winsorizer(capping_method = \"iqr\",tail = \"both\",fold = 1.5,variables=[\"Parking\"])\n",
    "win_t = win.fit_transform(df[[\"Parking\"]])\n",
    "print(win.right_tail_caps_)"
   ]
  },
  {
   "cell_type": "code",
   "execution_count": null,
   "id": "d8b22116",
   "metadata": {},
   "outputs": [],
   "source": [
    "win = Winsorizer(capping_method = \"iqr\",tail = \"both\",fold = 1.5,variables=[\"area_sft\"])\n",
    "win_t = win.fit_transform(df[[\"area_sft\"]])\n",
    "print(win.right_tail_caps_)"
   ]
  },
  {
   "cell_type": "code",
   "execution_count": null,
   "id": "3514299b",
   "metadata": {},
   "outputs": [],
   "source": [
    "win = Winsorizer(capping_method = \"iqr\",tail = \"both\",fold = 1.5,variables=[\"Price_persft\"])\n",
    "win_t = win.fit_transform(df[[\"Price_persft\"]])\n",
    "print(win.right_tail_caps_)"
   ]
  },
  {
   "cell_type": "markdown",
   "id": "59bfb709",
   "metadata": {},
   "source": [
    "# Modelling\n",
    "\n",
    "### Polynomial Regression "
   ]
  },
  {
   "cell_type": "code",
   "execution_count": null,
   "id": "96227f22",
   "metadata": {},
   "outputs": [],
   "source": [
    "x = df.drop(columns =[\"price\",\"Location\"])\n",
    "y = df[\"price\"]"
   ]
  },
  {
   "cell_type": "code",
   "execution_count": null,
   "id": "33575b57",
   "metadata": {},
   "outputs": [],
   "source": [
    "from sklearn.preprocessing import PolynomialFeatures\n",
    "polynomial_converter = PolynomialFeatures(degree=2,include_bias = False)"
   ]
  },
  {
   "cell_type": "code",
   "execution_count": null,
   "id": "14523f79",
   "metadata": {},
   "outputs": [],
   "source": [
    "x_poly = polynomial_converter.fit_transform(x)"
   ]
  },
  {
   "cell_type": "code",
   "execution_count": null,
   "id": "06187633",
   "metadata": {},
   "outputs": [],
   "source": [
    "x_poly.shape"
   ]
  },
  {
   "cell_type": "code",
   "execution_count": null,
   "id": "2f48c433",
   "metadata": {},
   "outputs": [],
   "source": [
    "from sklearn.model_selection import train_test_split\n",
    "x_train,x_test,y_train,y_test = train_test_split(x_poly,y,test_size=0.20,random_state=5)\n",
    "print(len(x_train),len(x_test))"
   ]
  },
  {
   "cell_type": "code",
   "execution_count": null,
   "id": "269f8966",
   "metadata": {},
   "outputs": [],
   "source": [
    "from sklearn.preprocessing import StandardScaler\n",
    "sc = StandardScaler()\n",
    "sc.fit(x_train)\n",
    "X_train_std = sc.transform(x_train)\n",
    "X_test_std = sc.transform(x_test)"
   ]
  },
  {
   "cell_type": "code",
   "execution_count": null,
   "id": "839ac4b9",
   "metadata": {},
   "outputs": [],
   "source": [
    "from sklearn.linear_model import LinearRegression\n",
    "model1 = LinearRegression()\n",
    "model1.fit(x_train,y_train)"
   ]
  },
  {
   "cell_type": "code",
   "execution_count": null,
   "id": "913ff24a",
   "metadata": {},
   "outputs": [],
   "source": [
    "train_predictions = model1.predict(x_train)\n",
    "test_predictions = model1.predict(x_test)"
   ]
  },
  {
   "cell_type": "code",
   "execution_count": null,
   "id": "ca000320",
   "metadata": {},
   "outputs": [],
   "source": [
    "train_res = y_train-train_predictions\n",
    "test_res = y_test-test_predictions"
   ]
  },
  {
   "cell_type": "code",
   "execution_count": null,
   "id": "eac6f68f",
   "metadata": {},
   "outputs": [],
   "source": [
    "model1.score(x_train,y_train)"
   ]
  },
  {
   "cell_type": "code",
   "execution_count": null,
   "id": "754b2a29",
   "metadata": {},
   "outputs": [],
   "source": [
    "model1.score(x_test,y_test)"
   ]
  },
  {
   "cell_type": "code",
   "execution_count": null,
   "id": "677b03df",
   "metadata": {},
   "outputs": [],
   "source": [
    "from sklearn.model_selection import cross_val_score\n",
    "scores = cross_val_score(model1,x,y,cv=4)\n",
    "scores\n",
    "\n",
    "abs(scores.mean())"
   ]
  },
  {
   "cell_type": "code",
   "execution_count": null,
   "id": "b6eb389c",
   "metadata": {},
   "outputs": [],
   "source": [
    "from sklearn.metrics import mean_squared_error"
   ]
  },
  {
   "cell_type": "code",
   "execution_count": null,
   "id": "215d6240",
   "metadata": {},
   "outputs": [],
   "source": [
    "MSE = mean_squared_error(y_test,test_predictions)\n",
    "MSE"
   ]
  },
  {
   "cell_type": "code",
   "execution_count": null,
   "id": "21867d11",
   "metadata": {},
   "outputs": [],
   "source": [
    "RMSE = np.sqrt(MSE)\n",
    "RMSE"
   ]
  },
  {
   "cell_type": "markdown",
   "id": "e7fabdcf",
   "metadata": {},
   "source": [
    "# Linear Regression"
   ]
  },
  {
   "cell_type": "code",
   "execution_count": null,
   "id": "99e6ff9c",
   "metadata": {},
   "outputs": [],
   "source": [
    "from sklearn.model_selection import train_test_split\n",
    "x_train,x_test,y_train,y_test = train_test_split(x,y,test_size=0.20,random_state=10)\n",
    "print(len(x_train),len(x_test))"
   ]
  },
  {
   "cell_type": "code",
   "execution_count": null,
   "id": "a8e4bb80",
   "metadata": {},
   "outputs": [],
   "source": [
    "from sklearn.preprocessing import StandardScaler\n",
    "sc = StandardScaler()\n",
    "sc.fit(x_train)\n",
    "X_train_std = sc.transform(x_train)\n",
    "X_test_std = sc.transform(x_test)"
   ]
  },
  {
   "cell_type": "code",
   "execution_count": null,
   "id": "03f76a69",
   "metadata": {},
   "outputs": [],
   "source": [
    "from sklearn.linear_model import LinearRegression\n",
    "lr = LinearRegression()\n",
    "lr.fit(x_train,y_train)"
   ]
  },
  {
   "cell_type": "code",
   "execution_count": null,
   "id": "7ba30c95",
   "metadata": {},
   "outputs": [],
   "source": [
    "train_predictions = lr.predict(x_train)\n",
    "test_predictions = lr.predict(x_test)"
   ]
  },
  {
   "cell_type": "code",
   "execution_count": null,
   "id": "f30fc249",
   "metadata": {},
   "outputs": [],
   "source": [
    "from sklearn.metrics import mean_squared_error"
   ]
  },
  {
   "cell_type": "code",
   "execution_count": null,
   "id": "f224531e",
   "metadata": {},
   "outputs": [],
   "source": [
    "test_RMSE =np.sqrt(mean_squared_error(y_test,test_predictions))\n",
    "train_RMSE = np.sqrt(mean_squared_error(y_train,train_predictions))\n",
    "print(train_RMSE,test_RMSE)"
   ]
  },
  {
   "cell_type": "code",
   "execution_count": null,
   "id": "68237319",
   "metadata": {},
   "outputs": [],
   "source": [
    "lr.score(x_train,y_train)"
   ]
  },
  {
   "cell_type": "code",
   "execution_count": null,
   "id": "5c29ff23",
   "metadata": {},
   "outputs": [],
   "source": [
    "lr.score(x_test,y_test)"
   ]
  },
  {
   "cell_type": "code",
   "execution_count": null,
   "id": "dc226484",
   "metadata": {},
   "outputs": [],
   "source": [
    "from sklearn.model_selection import cross_val_score\n",
    "scores = cross_val_score(lr,x,y,cv=5)\n",
    "print(scores)\n",
    "scores.mean()"
   ]
  },
  {
   "cell_type": "markdown",
   "id": "db990405",
   "metadata": {},
   "source": [
    "# Linearity Of Errors"
   ]
  },
  {
   "cell_type": "code",
   "execution_count": null,
   "id": "d72abb5d",
   "metadata": {},
   "outputs": [],
   "source": [
    "test_res = y_test-test_predictions"
   ]
  },
  {
   "cell_type": "code",
   "execution_count": null,
   "id": "022fedc8",
   "metadata": {},
   "outputs": [],
   "source": [
    "plt.scatter(y_test,test_res)\n",
    "plt.xlabel(\"Observed Values\")\n",
    "plt.ylabel(\"fitted_values\")\n",
    "plt.show()"
   ]
  },
  {
   "cell_type": "markdown",
   "id": "141e8bea",
   "metadata": {},
   "source": [
    "# Normality of errors"
   ]
  },
  {
   "cell_type": "code",
   "execution_count": null,
   "id": "1b19d855",
   "metadata": {},
   "outputs": [],
   "source": [
    "sns.distplot(test_res,bins=15,kde=True)\n",
    "plt.show()"
   ]
  },
  {
   "cell_type": "markdown",
   "id": "25abedb9",
   "metadata": {},
   "source": [
    "# Equal variance of errors"
   ]
  },
  {
   "cell_type": "code",
   "execution_count": null,
   "id": "0a787043",
   "metadata": {},
   "outputs": [],
   "source": [
    "plt.scatter(test_predictions,test_res,c=\"r\")\n",
    "plt.axhline(y=0,color=\"blue\")\n",
    "plt.xlabel('fitted values')\n",
    "plt.ylabel(\"residuals\")\n",
    "plt.show()"
   ]
  },
  {
   "cell_type": "markdown",
   "id": "6cdd13b0",
   "metadata": {},
   "source": [
    "# ANN"
   ]
  },
  {
   "cell_type": "code",
   "execution_count": null,
   "id": "0f915a13",
   "metadata": {},
   "outputs": [],
   "source": [
    "from sklearn.model_selection import train_test_split\n",
    "x_train,x_test,y_train,y_test = train_test_split(x,y,test_size = 0.20,random_state=0)"
   ]
  },
  {
   "cell_type": "code",
   "execution_count": null,
   "id": "68a4b63c",
   "metadata": {},
   "outputs": [],
   "source": [
    "import tensorflow as tf\n",
    "import keras"
   ]
  },
  {
   "cell_type": "code",
   "execution_count": null,
   "id": "b227a9df",
   "metadata": {},
   "outputs": [],
   "source": [
    "ann = tf.keras.models.Sequential()"
   ]
  },
  {
   "cell_type": "code",
   "execution_count": null,
   "id": "3c78b828",
   "metadata": {},
   "outputs": [],
   "source": [
    "ann.add(tf.keras.layers.Dense(units = 6 , activation=\"relu\"))"
   ]
  },
  {
   "cell_type": "code",
   "execution_count": null,
   "id": "130e9201",
   "metadata": {},
   "outputs": [],
   "source": [
    "ann.add(tf.keras.layers.Dense(units = 6 , activation=\"relu\"))"
   ]
  },
  {
   "cell_type": "code",
   "execution_count": null,
   "id": "72e49ca6",
   "metadata": {},
   "outputs": [],
   "source": [
    "ann.add(tf.keras.layers.Dense(units = 1))"
   ]
  },
  {
   "cell_type": "code",
   "execution_count": null,
   "id": "28152189",
   "metadata": {},
   "outputs": [],
   "source": [
    "ann.compile(optimizer = \"adam\",loss = \"mean_squared_error\")"
   ]
  },
  {
   "cell_type": "code",
   "execution_count": null,
   "id": "55c9d399",
   "metadata": {},
   "outputs": [],
   "source": [
    "ann.fit(x_train,y_train,batch_size = 32 , epochs = 50)"
   ]
  },
  {
   "cell_type": "code",
   "execution_count": null,
   "id": "84b7b8d9",
   "metadata": {},
   "outputs": [],
   "source": [
    "y_pred = ann.predict(x_test)\n",
    "np.set_printoptions(precision=2)"
   ]
  },
  {
   "cell_type": "code",
   "execution_count": null,
   "id": "5b9283c3",
   "metadata": {},
   "outputs": [],
   "source": [
    "y_test = y_test.to_numpy()"
   ]
  },
  {
   "cell_type": "code",
   "execution_count": null,
   "id": "e5a19d8f",
   "metadata": {},
   "outputs": [],
   "source": [
    "print(np.concatenate((y_pred.reshape(len(y_pred),1),y_test.reshape(len(y_test),1)),1))"
   ]
  },
  {
   "cell_type": "code",
   "execution_count": null,
   "id": "74529f8b",
   "metadata": {},
   "outputs": [],
   "source": [
    "# EVALUATE MODEL IN THE TEST SET\n",
    "score_mse_train = ann.evaluate(x_train, y_train)\n",
    "print('Train MSE Score:', score_mse_train)\n",
    "\n",
    "# EVALUATE MODEL IN THE TRAIN SET\n",
    "score_mse_test = ann.evaluate(x_test, y_test)\n",
    "print('Test MSE Score:', score_mse_test)"
   ]
  },
  {
   "cell_type": "code",
   "execution_count": null,
   "id": "19998dcf",
   "metadata": {},
   "outputs": [],
   "source": [
    "# EVALUATE MODEL IN THE TEST SET\n",
    "score_rmse_train = np.sqrt(score_mse_train)\n",
    "print('Train RMSE Score:', score_rmse_train)\n",
    "\n",
    "# EVALUATE MODEL IN THE TRAIN SET\n",
    "score_rmse_test = np.sqrt(score_mse_test)\n",
    "print('Test RMSE Score:', score_rmse_test)"
   ]
  },
  {
   "cell_type": "markdown",
   "id": "0c138a9f",
   "metadata": {},
   "source": [
    "# Random Forest Regression"
   ]
  },
  {
   "cell_type": "code",
   "execution_count": null,
   "id": "891be1bd",
   "metadata": {},
   "outputs": [],
   "source": [
    "from sklearn.model_selection import train_test_split\n",
    "x_train,x_test,y_train,y_test = train_test_split(x,y,test_size=0.20,random_state=10)\n",
    "print(len(x_train),len(x_test))"
   ]
  },
  {
   "cell_type": "code",
   "execution_count": null,
   "id": "4939dd0d",
   "metadata": {},
   "outputs": [],
   "source": [
    "from sklearn.preprocessing import StandardScaler\n",
    "sc = StandardScaler()\n",
    "sc.fit(x_train)\n",
    "X_train_std = sc.transform(x_train)\n",
    "X_test_std = sc.transform(x_test)"
   ]
  },
  {
   "cell_type": "code",
   "execution_count": null,
   "id": "0d0df0db",
   "metadata": {},
   "outputs": [],
   "source": [
    "from sklearn.ensemble import RandomForestRegressor"
   ]
  },
  {
   "cell_type": "code",
   "execution_count": null,
   "id": "35a603f5",
   "metadata": {},
   "outputs": [],
   "source": [
    "rf = RandomForestRegressor()\n",
    "# fit the model\n",
    "rf.fit(x_train, y_train)\n",
    "# predict the prices of X_test\n",
    "rf_pre =rf.predict(x_test)"
   ]
  },
  {
   "cell_type": "code",
   "execution_count": null,
   "id": "5f6f203e",
   "metadata": {},
   "outputs": [],
   "source": [
    "from sklearn.metrics import mean_absolute_error"
   ]
  },
  {
   "cell_type": "code",
   "execution_count": null,
   "id": "8228f1b8",
   "metadata": {},
   "outputs": [],
   "source": [
    "print('Random Forest Regressor accuracy: ')\n",
    "crossr = cross_val_score(estimator = rf, X = x_train, y = y_train, cv = 5,verbose = 0)\n",
    "mser = mean_squared_error(y_test, rf_pre)\n",
    "rmser = mean_squared_error(y_test, rf_pre)**0.5\n",
    "maer = mean_absolute_error(y_test, rf_pre)\n",
    "\n",
    "print('Cross val     : ',crossr)\n",
    "print('MAE           : ', maer)\n",
    "print('MSE (RMSE)    : ', mser,' (',rmser,')')"
   ]
  },
  {
   "cell_type": "markdown",
   "id": "4179bb24",
   "metadata": {},
   "source": [
    "# Real Time Predictons"
   ]
  },
  {
   "cell_type": "code",
   "execution_count": null,
   "id": "dc54affb",
   "metadata": {},
   "outputs": [],
   "source": [
    "x_test.head()"
   ]
  },
  {
   "cell_type": "code",
   "execution_count": null,
   "id": "b11e2356",
   "metadata": {},
   "outputs": [],
   "source": [
    "x_test.iloc[0]"
   ]
  },
  {
   "cell_type": "code",
   "execution_count": null,
   "id": "3795c29e",
   "metadata": {},
   "outputs": [],
   "source": [
    "rf.predict([x_test.iloc[0]])"
   ]
  },
  {
   "cell_type": "code",
   "execution_count": null,
   "id": "ae97c8d5",
   "metadata": {},
   "outputs": [],
   "source": [
    "rf.predict([[4.0,4.0,1.0,1.0,2.0,1.0,1045.0,20.0]])"
   ]
  },
  {
   "cell_type": "code",
   "execution_count": null,
   "id": "fb5c63e4",
   "metadata": {},
   "outputs": [],
   "source": []
  },
  {
   "cell_type": "code",
   "execution_count": null,
   "id": "579f0799",
   "metadata": {},
   "outputs": [],
   "source": []
  }
 ],
 "metadata": {
  "kernelspec": {
   "display_name": "Python 3 (ipykernel)",
   "language": "python",
   "name": "python3"
  },
  "language_info": {
   "codemirror_mode": {
    "name": "ipython",
    "version": 3
   },
   "file_extension": ".py",
   "mimetype": "text/x-python",
   "name": "python",
   "nbconvert_exporter": "python",
   "pygments_lexer": "ipython3",
   "version": "3.9.12"
  }
 },
 "nbformat": 4,
 "nbformat_minor": 5
}
