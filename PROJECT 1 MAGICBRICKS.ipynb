{
 "cells": [
  {
   "cell_type": "code",
   "execution_count": 2,
   "id": "a8d29d95",
   "metadata": {},
   "outputs": [],
   "source": [
    "import numpy as np\n",
    "import pandas as pd\n",
    "import matplotlib.pyplot as plt\n",
    "%matplotlib inline\n",
    "import seaborn as sns"
   ]
  },
  {
   "cell_type": "code",
   "execution_count": 3,
   "id": "143aaf46",
   "metadata": {},
   "outputs": [
    {
     "data": {
      "text/html": [
       "<div>\n",
       "<style scoped>\n",
       "    .dataframe tbody tr th:only-of-type {\n",
       "        vertical-align: middle;\n",
       "    }\n",
       "\n",
       "    .dataframe tbody tr th {\n",
       "        vertical-align: top;\n",
       "    }\n",
       "\n",
       "    .dataframe thead th {\n",
       "        text-align: right;\n",
       "    }\n",
       "</style>\n",
       "<table border=\"1\" class=\"dataframe\">\n",
       "  <thead>\n",
       "    <tr style=\"text-align: right;\">\n",
       "      <th></th>\n",
       "      <th>Property Name</th>\n",
       "      <th>Area</th>\n",
       "      <th>Property Price</th>\n",
       "      <th>Location</th>\n",
       "      <th>Bedrooms</th>\n",
       "      <th>Bathrooms</th>\n",
       "      <th>Status</th>\n",
       "      <th>Area Price Persft</th>\n",
       "      <th>Lift</th>\n",
       "      <th>Furniture</th>\n",
       "      <th>Parking</th>\n",
       "      <th>Address</th>\n",
       "      <th>Transaction</th>\n",
       "    </tr>\n",
       "  </thead>\n",
       "  <tbody>\n",
       "    <tr>\n",
       "      <th>0</th>\n",
       "      <td>1 BHK Builder Floor</td>\n",
       "      <td>340 sqft</td>\n",
       "      <td>₹ 21.0 Lac</td>\n",
       "      <td>Uttam Nagar West ,New Delhi</td>\n",
       "      <td>1 See Dimension</td>\n",
       "      <td>1.0</td>\n",
       "      <td>Ready to Move</td>\n",
       "      <td>₹ 6,176/sqft</td>\n",
       "      <td>1</td>\n",
       "      <td>Semi-Furnished</td>\n",
       "      <td>None</td>\n",
       "      <td>Uttam Nagar west Metro Station, Uttam Nagar We...</td>\n",
       "      <td>New Property\\nFree Legal Title Check</td>\n",
       "    </tr>\n",
       "    <tr>\n",
       "      <th>1</th>\n",
       "      <td>NaN</td>\n",
       "      <td>2267 sqft</td>\n",
       "      <td>NaN</td>\n",
       "      <td>NaN</td>\n",
       "      <td>2</td>\n",
       "      <td>3.0</td>\n",
       "      <td>Under Construction</td>\n",
       "      <td>₹ 21,614/sqft</td>\n",
       "      <td>NaN</td>\n",
       "      <td>1 Covered</td>\n",
       "      <td>New Property\\nFree Legal Title Check</td>\n",
       "      <td>Moti Nagar, New Delhi - West, Delhi NCR</td>\n",
       "      <td>Dec '24</td>\n",
       "    </tr>\n",
       "    <tr>\n",
       "      <th>2</th>\n",
       "      <td>NaN</td>\n",
       "      <td>9000 sqft</td>\n",
       "      <td>NaN</td>\n",
       "      <td>NaN</td>\n",
       "      <td>4</td>\n",
       "      <td>5.0</td>\n",
       "      <td>Ready to Move</td>\n",
       "      <td>₹ 17,500/sqft</td>\n",
       "      <td>NaN</td>\n",
       "      <td>1 Covered</td>\n",
       "      <td>1 (Out of 4 Floors)</td>\n",
       "      <td>GK I, New Delhi - South, Delhi NCR</td>\n",
       "      <td>New Property\\nFree Legal Title Check</td>\n",
       "    </tr>\n",
       "    <tr>\n",
       "      <th>3</th>\n",
       "      <td>NaN</td>\n",
       "      <td>4000 sqft</td>\n",
       "      <td>NaN</td>\n",
       "      <td>NaN</td>\n",
       "      <td>4 See Dimensions</td>\n",
       "      <td>5.0</td>\n",
       "      <td>Ready to Move</td>\n",
       "      <td>₹ 23,750/sqft</td>\n",
       "      <td>1</td>\n",
       "      <td>2 Covered</td>\n",
       "      <td>Ground (Out of 4 Floors)</td>\n",
       "      <td>Vasant Vihar, Vasant Vihar, New Delhi - South,...</td>\n",
       "      <td>Resale\\nFree Legal Title Check</td>\n",
       "    </tr>\n",
       "    <tr>\n",
       "      <th>4</th>\n",
       "      <td>3 BHK Builder Floor</td>\n",
       "      <td>1120 sqft</td>\n",
       "      <td>₹ 70.0 Lac</td>\n",
       "      <td>Chhattarpur ,New Delhi</td>\n",
       "      <td>3 See Dimensions</td>\n",
       "      <td>2.0</td>\n",
       "      <td>Ready to Move</td>\n",
       "      <td>₹ 6,250/sqft</td>\n",
       "      <td>1</td>\n",
       "      <td>1 Covered</td>\n",
       "      <td>2 (Out of 4 Floors)</td>\n",
       "      <td>Chhattarpur New Delhi, Chhattarpur, New Delhi ...</td>\n",
       "      <td>New Property\\nFree Legal Title Check</td>\n",
       "    </tr>\n",
       "  </tbody>\n",
       "</table>\n",
       "</div>"
      ],
      "text/plain": [
       "         Property Name       Area Property Price                     Location  \\\n",
       "0  1 BHK Builder Floor   340 sqft     ₹ 21.0 Lac  Uttam Nagar West ,New Delhi   \n",
       "1                  NaN  2267 sqft            NaN                          NaN   \n",
       "2                  NaN  9000 sqft            NaN                          NaN   \n",
       "3                  NaN  4000 sqft            NaN                          NaN   \n",
       "4  3 BHK Builder Floor  1120 sqft     ₹ 70.0 Lac       Chhattarpur ,New Delhi   \n",
       "\n",
       "           Bedrooms  Bathrooms              Status Area Price Persft Lift  \\\n",
       "0   1 See Dimension        1.0       Ready to Move      ₹ 6,176/sqft    1   \n",
       "1                 2        3.0  Under Construction     ₹ 21,614/sqft  NaN   \n",
       "2                 4        5.0       Ready to Move     ₹ 17,500/sqft  NaN   \n",
       "3  4 See Dimensions        5.0       Ready to Move     ₹ 23,750/sqft    1   \n",
       "4  3 See Dimensions        2.0       Ready to Move      ₹ 6,250/sqft    1   \n",
       "\n",
       "        Furniture                               Parking  \\\n",
       "0  Semi-Furnished                                  None   \n",
       "1       1 Covered  New Property\\nFree Legal Title Check   \n",
       "2       1 Covered                   1 (Out of 4 Floors)   \n",
       "3       2 Covered              Ground (Out of 4 Floors)   \n",
       "4       1 Covered                   2 (Out of 4 Floors)   \n",
       "\n",
       "                                             Address  \\\n",
       "0  Uttam Nagar west Metro Station, Uttam Nagar We...   \n",
       "1            Moti Nagar, New Delhi - West, Delhi NCR   \n",
       "2                 GK I, New Delhi - South, Delhi NCR   \n",
       "3  Vasant Vihar, Vasant Vihar, New Delhi - South,...   \n",
       "4  Chhattarpur New Delhi, Chhattarpur, New Delhi ...   \n",
       "\n",
       "                            Transaction  \n",
       "0  New Property\\nFree Legal Title Check  \n",
       "1                               Dec '24  \n",
       "2  New Property\\nFree Legal Title Check  \n",
       "3        Resale\\nFree Legal Title Check  \n",
       "4  New Property\\nFree Legal Title Check  "
      ]
     },
     "execution_count": 3,
     "metadata": {},
     "output_type": "execute_result"
    }
   ],
   "source": [
    "df=pd.read_csv('MAGICBRICKS (1).csv')\n",
    "df.head()"
   ]
  },
  {
   "cell_type": "code",
   "execution_count": 4,
   "id": "2fc9c990",
   "metadata": {},
   "outputs": [
    {
     "data": {
      "text/plain": [
       "4"
      ]
     },
     "execution_count": 4,
     "metadata": {},
     "output_type": "execute_result"
    }
   ],
   "source": [
    "df['Property Name'].nunique()"
   ]
  },
  {
   "cell_type": "code",
   "execution_count": 5,
   "id": "1a5e26d4",
   "metadata": {},
   "outputs": [
    {
     "data": {
      "text/plain": [
       "1981"
      ]
     },
     "execution_count": 5,
     "metadata": {},
     "output_type": "execute_result"
    }
   ],
   "source": [
    "df['Area Price Persft'].value_counts().sum()\n"
   ]
  },
  {
   "cell_type": "code",
   "execution_count": 6,
   "id": "3fda043b",
   "metadata": {},
   "outputs": [],
   "source": [
    "area=df.Area.str.replace(\"sqft\",\"\").str.replace(\"sqyrd\",\"\").str.strip().str.replace(\",\",\"\").astype(float)"
   ]
  },
  {
   "cell_type": "code",
   "execution_count": 7,
   "id": "9e2246ea",
   "metadata": {},
   "outputs": [
    {
     "data": {
      "text/plain": [
       "0        340.0\n",
       "1       2267.0\n",
       "2       9000.0\n",
       "3       4000.0\n",
       "4       1120.0\n",
       "         ...  \n",
       "2005     208.0\n",
       "2006     450.0\n",
       "2007    1100.0\n",
       "2008     725.0\n",
       "2009     500.0\n",
       "Name: Area, Length: 2010, dtype: float64"
      ]
     },
     "execution_count": 7,
     "metadata": {},
     "output_type": "execute_result"
    }
   ],
   "source": [
    "area"
   ]
  },
  {
   "cell_type": "code",
   "execution_count": 8,
   "id": "dc2b5cd2",
   "metadata": {},
   "outputs": [
    {
     "ename": "KeyError",
     "evalue": "'Bedrooms'",
     "output_type": "error",
     "traceback": [
      "\u001b[1;31m---------------------------------------------------------------------------\u001b[0m",
      "\u001b[1;31mKeyError\u001b[0m                                  Traceback (most recent call last)",
      "File \u001b[1;32m~\\anaconda3\\lib\\site-packages\\pandas\\core\\indexes\\base.py:3621\u001b[0m, in \u001b[0;36mIndex.get_loc\u001b[1;34m(self, key, method, tolerance)\u001b[0m\n\u001b[0;32m   3620\u001b[0m \u001b[38;5;28;01mtry\u001b[39;00m:\n\u001b[1;32m-> 3621\u001b[0m     \u001b[38;5;28;01mreturn\u001b[39;00m \u001b[38;5;28;43mself\u001b[39;49m\u001b[38;5;241;43m.\u001b[39;49m\u001b[43m_engine\u001b[49m\u001b[38;5;241;43m.\u001b[39;49m\u001b[43mget_loc\u001b[49m\u001b[43m(\u001b[49m\u001b[43mcasted_key\u001b[49m\u001b[43m)\u001b[49m\n\u001b[0;32m   3622\u001b[0m \u001b[38;5;28;01mexcept\u001b[39;00m \u001b[38;5;167;01mKeyError\u001b[39;00m \u001b[38;5;28;01mas\u001b[39;00m err:\n",
      "File \u001b[1;32m~\\anaconda3\\lib\\site-packages\\pandas\\_libs\\index.pyx:136\u001b[0m, in \u001b[0;36mpandas._libs.index.IndexEngine.get_loc\u001b[1;34m()\u001b[0m\n",
      "File \u001b[1;32m~\\anaconda3\\lib\\site-packages\\pandas\\_libs\\index.pyx:163\u001b[0m, in \u001b[0;36mpandas._libs.index.IndexEngine.get_loc\u001b[1;34m()\u001b[0m\n",
      "File \u001b[1;32mpandas\\_libs\\hashtable_class_helper.pxi:5198\u001b[0m, in \u001b[0;36mpandas._libs.hashtable.PyObjectHashTable.get_item\u001b[1;34m()\u001b[0m\n",
      "File \u001b[1;32mpandas\\_libs\\hashtable_class_helper.pxi:5206\u001b[0m, in \u001b[0;36mpandas._libs.hashtable.PyObjectHashTable.get_item\u001b[1;34m()\u001b[0m\n",
      "\u001b[1;31mKeyError\u001b[0m: 'Bedrooms'",
      "\nThe above exception was the direct cause of the following exception:\n",
      "\u001b[1;31mKeyError\u001b[0m                                  Traceback (most recent call last)",
      "Input \u001b[1;32mIn [8]\u001b[0m, in \u001b[0;36m<cell line: 3>\u001b[1;34m()\u001b[0m\n\u001b[0;32m      1\u001b[0m df[[\u001b[38;5;124m'\u001b[39m\u001b[38;5;124munits\u001b[39m\u001b[38;5;124m'\u001b[39m,\u001b[38;5;124m'\u001b[39m\u001b[38;5;124mBedrooms\u001b[39m\u001b[38;5;124m'\u001b[39m]]\u001b[38;5;241m=\u001b[39mdf[\u001b[38;5;124m\"\u001b[39m\u001b[38;5;124mBedrooms\u001b[39m\u001b[38;5;124m\"\u001b[39m]\u001b[38;5;241m.\u001b[39mstr\u001b[38;5;241m.\u001b[39msplit(\u001b[38;5;124m\"\u001b[39m\u001b[38;5;124m \u001b[39m\u001b[38;5;124m\"\u001b[39m,\u001b[38;5;241m1\u001b[39m,expand\u001b[38;5;241m=\u001b[39m\u001b[38;5;28;01mTrue\u001b[39;00m)\n\u001b[0;32m      2\u001b[0m df\u001b[38;5;241m=\u001b[39mdf\u001b[38;5;241m.\u001b[39mdrop(labels\u001b[38;5;241m=\u001b[39m[\u001b[38;5;124m\"\u001b[39m\u001b[38;5;124mBedrooms\u001b[39m\u001b[38;5;124m\"\u001b[39m],axis\u001b[38;5;241m=\u001b[39m\u001b[38;5;241m1\u001b[39m)\n\u001b[1;32m----> 3\u001b[0m df[\u001b[38;5;124m\"\u001b[39m\u001b[38;5;124mBedrooms\u001b[39m\u001b[38;5;124m\"\u001b[39m]\u001b[38;5;241m=\u001b[39m\u001b[43mdf\u001b[49m\u001b[43m[\u001b[49m\u001b[38;5;124;43m\"\u001b[39;49m\u001b[38;5;124;43mBedrooms\u001b[39;49m\u001b[38;5;124;43m\"\u001b[39;49m\u001b[43m]\u001b[49m\u001b[38;5;241m.\u001b[39mastype(\u001b[38;5;28mint\u001b[39m)\n",
      "File \u001b[1;32m~\\anaconda3\\lib\\site-packages\\pandas\\core\\frame.py:3505\u001b[0m, in \u001b[0;36mDataFrame.__getitem__\u001b[1;34m(self, key)\u001b[0m\n\u001b[0;32m   3503\u001b[0m \u001b[38;5;28;01mif\u001b[39;00m \u001b[38;5;28mself\u001b[39m\u001b[38;5;241m.\u001b[39mcolumns\u001b[38;5;241m.\u001b[39mnlevels \u001b[38;5;241m>\u001b[39m \u001b[38;5;241m1\u001b[39m:\n\u001b[0;32m   3504\u001b[0m     \u001b[38;5;28;01mreturn\u001b[39;00m \u001b[38;5;28mself\u001b[39m\u001b[38;5;241m.\u001b[39m_getitem_multilevel(key)\n\u001b[1;32m-> 3505\u001b[0m indexer \u001b[38;5;241m=\u001b[39m \u001b[38;5;28;43mself\u001b[39;49m\u001b[38;5;241;43m.\u001b[39;49m\u001b[43mcolumns\u001b[49m\u001b[38;5;241;43m.\u001b[39;49m\u001b[43mget_loc\u001b[49m\u001b[43m(\u001b[49m\u001b[43mkey\u001b[49m\u001b[43m)\u001b[49m\n\u001b[0;32m   3506\u001b[0m \u001b[38;5;28;01mif\u001b[39;00m is_integer(indexer):\n\u001b[0;32m   3507\u001b[0m     indexer \u001b[38;5;241m=\u001b[39m [indexer]\n",
      "File \u001b[1;32m~\\anaconda3\\lib\\site-packages\\pandas\\core\\indexes\\base.py:3623\u001b[0m, in \u001b[0;36mIndex.get_loc\u001b[1;34m(self, key, method, tolerance)\u001b[0m\n\u001b[0;32m   3621\u001b[0m     \u001b[38;5;28;01mreturn\u001b[39;00m \u001b[38;5;28mself\u001b[39m\u001b[38;5;241m.\u001b[39m_engine\u001b[38;5;241m.\u001b[39mget_loc(casted_key)\n\u001b[0;32m   3622\u001b[0m \u001b[38;5;28;01mexcept\u001b[39;00m \u001b[38;5;167;01mKeyError\u001b[39;00m \u001b[38;5;28;01mas\u001b[39;00m err:\n\u001b[1;32m-> 3623\u001b[0m     \u001b[38;5;28;01mraise\u001b[39;00m \u001b[38;5;167;01mKeyError\u001b[39;00m(key) \u001b[38;5;28;01mfrom\u001b[39;00m \u001b[38;5;21;01merr\u001b[39;00m\n\u001b[0;32m   3624\u001b[0m \u001b[38;5;28;01mexcept\u001b[39;00m \u001b[38;5;167;01mTypeError\u001b[39;00m:\n\u001b[0;32m   3625\u001b[0m     \u001b[38;5;66;03m# If we have a listlike key, _check_indexing_error will raise\u001b[39;00m\n\u001b[0;32m   3626\u001b[0m     \u001b[38;5;66;03m#  InvalidIndexError. Otherwise we fall through and re-raise\u001b[39;00m\n\u001b[0;32m   3627\u001b[0m     \u001b[38;5;66;03m#  the TypeError.\u001b[39;00m\n\u001b[0;32m   3628\u001b[0m     \u001b[38;5;28mself\u001b[39m\u001b[38;5;241m.\u001b[39m_check_indexing_error(key)\n",
      "\u001b[1;31mKeyError\u001b[0m: 'Bedrooms'"
     ]
    }
   ],
   "source": [
    "df[['units','Bedrooms']]=df[\"Bedrooms\"].str.split(\" \",1,expand=True)\n",
    "df=df.drop(labels=[\"Bedrooms\"],axis=1)\n",
    "df[\"Bedrooms\"]=df[\"Bedrooms\"].astype(int)"
   ]
  },
  {
   "cell_type": "code",
   "execution_count": null,
   "id": "28c18b20",
   "metadata": {},
   "outputs": [],
   "source": [
    "df[[\"x\",\"y\",\"z\"]]=df[\"Property Price\"].str.split(\" \",2,expand=True)\n",
    "df=df.drop(labels=[\"Property Price\"],axis=1)\n",
    "df[\"Property Price\"]=df[\"Property Price\"].astype(int)\n",
    "\n"
   ]
  },
  {
   "cell_type": "code",
   "execution_count": null,
   "id": "a8c8fdbb",
   "metadata": {},
   "outputs": [],
   "source": [
    "df=df.drop(labels=[\"units\"],axis=1)"
   ]
  },
  {
   "cell_type": "code",
   "execution_count": null,
   "id": "16153de3",
   "metadata": {},
   "outputs": [],
   "source": []
  },
  {
   "cell_type": "code",
   "execution_count": null,
   "id": "daa28332",
   "metadata": {},
   "outputs": [],
   "source": []
  },
  {
   "cell_type": "code",
   "execution_count": null,
   "id": "7c8d2e99",
   "metadata": {},
   "outputs": [],
   "source": [
    "df[\"Bedrooms\"]=df[\"Bedrooms\"].astype(float)"
   ]
  },
  {
   "cell_type": "code",
   "execution_count": null,
   "id": "8f9f7c07",
   "metadata": {},
   "outputs": [],
   "source": [
    "\n",
    "\n",
    "\n",
    "\n",
    "\n"
   ]
  },
  {
   "cell_type": "code",
   "execution_count": null,
   "id": "c6518a9f",
   "metadata": {},
   "outputs": [],
   "source": []
  },
  {
   "cell_type": "code",
   "execution_count": 1,
   "id": "2d3c8710",
   "metadata": {},
   "outputs": [
    {
     "ename": "NameError",
     "evalue": "name 'df' is not defined",
     "output_type": "error",
     "traceback": [
      "\u001b[1;31m---------------------------------------------------------------------------\u001b[0m",
      "\u001b[1;31mNameError\u001b[0m                                 Traceback (most recent call last)",
      "Input \u001b[1;32mIn [1]\u001b[0m, in \u001b[0;36m<cell line: 1>\u001b[1;34m()\u001b[0m\n\u001b[1;32m----> 1\u001b[0m df[[\u001b[38;5;124m\"\u001b[39m\u001b[38;5;124mcurrency\u001b[39m\u001b[38;5;124m\"\u001b[39m,\u001b[38;5;124m'\u001b[39m\u001b[38;5;124mArea Price Persft\u001b[39m\u001b[38;5;124m'\u001b[39m]]\u001b[38;5;241m=\u001b[39m\u001b[43mdf\u001b[49m[\u001b[38;5;124m\"\u001b[39m\u001b[38;5;124mArea Price Persft\u001b[39m\u001b[38;5;124m\"\u001b[39m]\u001b[38;5;241m.\u001b[39mstr\u001b[38;5;241m.\u001b[39msplit(\u001b[38;5;124m\"\u001b[39m\u001b[38;5;124m\"\u001b[39m,\u001b[38;5;241m1\u001b[39m,expand\u001b[38;5;241m=\u001b[39m\u001b[38;5;28;01mTrue\u001b[39;00m)\n\u001b[0;32m      2\u001b[0m df\u001b[38;5;241m=\u001b[39mdf\u001b[38;5;241m.\u001b[39mdrop(labels\u001b[38;5;241m=\u001b[39m[\u001b[38;5;124m\"\u001b[39m\u001b[38;5;124mcurrency\u001b[39m\u001b[38;5;124m\"\u001b[39m],axis\u001b[38;5;241m=\u001b[39m\u001b[38;5;241m1\u001b[39m)\n\u001b[0;32m      3\u001b[0m df[[\u001b[38;5;124m'\u001b[39m\u001b[38;5;124mArea Price Persft\u001b[39m\u001b[38;5;124m'\u001b[39m,\u001b[38;5;124m\"\u001b[39m\u001b[38;5;124munits\u001b[39m\u001b[38;5;124m\"\u001b[39m]]\u001b[38;5;241m=\u001b[39mdf[\u001b[38;5;124m\"\u001b[39m\u001b[38;5;124mArea Price Persft\u001b[39m\u001b[38;5;124m\"\u001b[39m]\u001b[38;5;241m.\u001b[39mstr\u001b[38;5;241m.\u001b[39msplit(\u001b[38;5;124m\"\u001b[39m\u001b[38;5;124m/\u001b[39m\u001b[38;5;124m\"\u001b[39m,\u001b[38;5;241m1\u001b[39m,expand\u001b[38;5;241m=\u001b[39m\u001b[38;5;28;01mTrue\u001b[39;00m)\n",
      "\u001b[1;31mNameError\u001b[0m: name 'df' is not defined"
     ]
    }
   ],
   "source": [
    "df[[\"currency\",'Area Price Persft']]=df[\"Area Price Persft\"].str.split(\"\",1,expand=True)\n",
    "df=df.drop(labels=[\"currency\"],axis=1)\n",
    "df[['Area Price Persft',\"units\"]]=df[\"Area Price Persft\"].str.split(\"/\",1,expand=True)\n",
    "df=df.drop(labels=[\"units\"],axis=1)"
   ]
  },
  {
   "cell_type": "code",
   "execution_count": null,
   "id": "f7702f56",
   "metadata": {},
   "outputs": [],
   "source": [
    "#df['Area Price Persft']=df['Area Price Persft'].astype(int)"
   ]
  },
  {
   "cell_type": "code",
   "execution_count": null,
   "id": "b2ab930d",
   "metadata": {},
   "outputs": [],
   "source": [
    "df"
   ]
  },
  {
   "cell_type": "code",
   "execution_count": null,
   "id": "2ae298c3",
   "metadata": {},
   "outputs": [],
   "source": [
    "e.columns"
   ]
  },
  {
   "cell_type": "code",
   "execution_count": null,
   "id": "41822503",
   "metadata": {},
   "outputs": [],
   "source": [
    "df.info"
   ]
  },
  {
   "cell_type": "code",
   "execution_count": null,
   "id": "8c726021",
   "metadata": {},
   "outputs": [],
   "source": [
    "df.dtypes"
   ]
  },
  {
   "cell_type": "code",
   "execution_count": null,
   "id": "8e61dcfe",
   "metadata": {},
   "outputs": [],
   "source": [
    "df.describe(include='all')"
   ]
  },
  {
   "cell_type": "code",
   "execution_count": null,
   "id": "7e8453e1",
   "metadata": {},
   "outputs": [],
   "source": [
    "df['Area'].unique()\n"
   ]
  },
  {
   "cell_type": "code",
   "execution_count": null,
   "id": "f6ef4444",
   "metadata": {},
   "outputs": [],
   "source": [
    "df.isnull().sum()"
   ]
  },
  {
   "cell_type": "markdown",
   "id": "91b9b524",
   "metadata": {},
   "source": [
    "# Fill the Null values"
   ]
  },
  {
   "cell_type": "code",
   "execution_count": null,
   "id": "9f4ebbbc",
   "metadata": {},
   "outputs": [],
   "source": [
    "#catgorical data fill with Mode\n",
    "#continous data fill with Mean"
   ]
  },
  {
   "cell_type": "code",
   "execution_count": null,
   "id": "b8b18b14",
   "metadata": {},
   "outputs": [],
   "source": [
    "mode=df['Property Name'].mode()[0]\n",
    "print(mode)\n",
    "\n",
    "df['Property Name'].fillna(mode,inplace=True)"
   ]
  },
  {
   "cell_type": "code",
   "execution_count": null,
   "id": "1c3b0c7a",
   "metadata": {},
   "outputs": [],
   "source": [
    "mode2=df['Area'].mode()[0]\n",
    "print(mode2)\n",
    "df['Area'].fillna(mode2,inplace=True)"
   ]
  },
  {
   "cell_type": "code",
   "execution_count": null,
   "id": "de061bd7",
   "metadata": {},
   "outputs": [],
   "source": [
    "mode3=df['Property Price'].mode()[0]\n",
    "print(mode3)\n",
    "df['Property Price'].fillna(mode3,inplace=True)"
   ]
  },
  {
   "cell_type": "code",
   "execution_count": null,
   "id": "5ee2f5d8",
   "metadata": {},
   "outputs": [],
   "source": [
    "mode4=df['Location'].mode()[0]\n",
    "print(mode4)\n",
    "df['Location'].fillna(mode4,inplace=True)"
   ]
  },
  {
   "cell_type": "code",
   "execution_count": null,
   "id": "3a396c34",
   "metadata": {},
   "outputs": [],
   "source": [
    "mode5=df['Bedrooms'].mode()[0]\n",
    "print(mode5)\n",
    "df['Bedrooms'].fillna(mode5,inplace=True)"
   ]
  },
  {
   "cell_type": "code",
   "execution_count": null,
   "id": "98353fd1",
   "metadata": {},
   "outputs": [],
   "source": [
    "mode6=df['Status'].mode()[0]\n",
    "print(mode6)\n",
    "df['Status'].fillna(mode6,inplace=True)"
   ]
  },
  {
   "cell_type": "code",
   "execution_count": null,
   "id": "3d7a4184",
   "metadata": {},
   "outputs": [],
   "source": [
    "mode7=df['Area Price Persft'].mode()[0]\n",
    "print(mode7)\n",
    "df['Area Price Persft'].fillna(mode7,inplace=True)"
   ]
  },
  {
   "cell_type": "code",
   "execution_count": null,
   "id": "be1655d5",
   "metadata": {},
   "outputs": [],
   "source": [
    "mode8=df['Lift'].mode()[0]\n",
    "print(mode8)\n",
    "df['Lift'].fillna(mode8,inplace=True)"
   ]
  },
  {
   "cell_type": "code",
   "execution_count": null,
   "id": "8696eb20",
   "metadata": {},
   "outputs": [],
   "source": [
    "mode9=df['Furniture'].mode()[0]\n",
    "print(mode9)\n",
    "df['Furniture'].fillna(mode9,inplace=True)"
   ]
  },
  {
   "cell_type": "code",
   "execution_count": null,
   "id": "ece5ab94",
   "metadata": {},
   "outputs": [],
   "source": [
    "mode10=df['Parking'].mode()[0]\n",
    "print(mode10)\n",
    "df['Parking'].fillna(mode10,inplace=True)"
   ]
  },
  {
   "cell_type": "code",
   "execution_count": null,
   "id": "324dcf0b",
   "metadata": {},
   "outputs": [],
   "source": [
    "mode11=df['Address'].mode()[0]\n",
    "print(mode11)\n",
    "df['Address'].fillna(mode11,inplace=True)"
   ]
  },
  {
   "cell_type": "code",
   "execution_count": null,
   "id": "5e5a6d63",
   "metadata": {},
   "outputs": [],
   "source": [
    "mode12=df['Transaction'].mode()[0]\n",
    "print(mode12)\n",
    "df['Transaction'].fillna(mode12,inplace=True)"
   ]
  },
  {
   "cell_type": "code",
   "execution_count": null,
   "id": "10f50458",
   "metadata": {},
   "outputs": [],
   "source": [
    "mean=df['Bathrooms'].mean()\n",
    "print(mean)\n",
    "df['Bathrooms'].fillna(mean,inplace=True)"
   ]
  },
  {
   "cell_type": "code",
   "execution_count": null,
   "id": "bc1f47e6",
   "metadata": {},
   "outputs": [],
   "source": [
    "df.isnull().sum()"
   ]
  },
  {
   "cell_type": "code",
   "execution_count": null,
   "id": "4867d97f",
   "metadata": {},
   "outputs": [],
   "source": [
    "plt.rcParams['figure.figsize']=(25,20)\n",
    "import warnings\n",
    "warnings.filterwarnings('ignore')"
   ]
  },
  {
   "cell_type": "code",
   "execution_count": null,
   "id": "ed567807",
   "metadata": {},
   "outputs": [],
   "source": [
    "histcolumns=['Property Name','Status','Bedrooms','Bathrooms','Parking']\n",
    "histcolumns"
   ]
  },
  {
   "cell_type": "code",
   "execution_count": null,
   "id": "8f0a3443",
   "metadata": {},
   "outputs": [],
   "source": [
    "for i in histcolumns:\n",
    "    print(i)"
   ]
  },
  {
   "cell_type": "code",
   "execution_count": null,
   "id": "b85ff1ca",
   "metadata": {},
   "outputs": [],
   "source": [
    "for i in histcolumns:\n",
    "    df[i].hist()\n",
    "    plt.show()\n",
    "    "
   ]
  },
  {
   "cell_type": "code",
   "execution_count": null,
   "id": "6982a803",
   "metadata": {
    "scrolled": true
   },
   "outputs": [],
   "source": [
    "sns.countplot(y='Area',data=df)\n",
    "plt.show()"
   ]
  },
  {
   "cell_type": "code",
   "execution_count": null,
   "id": "9d4c5d83",
   "metadata": {},
   "outputs": [],
   "source": []
  },
  {
   "cell_type": "code",
   "execution_count": null,
   "id": "68f2636b",
   "metadata": {},
   "outputs": [],
   "source": []
  },
  {
   "cell_type": "code",
   "execution_count": null,
   "id": "29e0769c",
   "metadata": {},
   "outputs": [],
   "source": []
  },
  {
   "cell_type": "code",
   "execution_count": null,
   "id": "5b9fcbf0",
   "metadata": {},
   "outputs": [],
   "source": []
  }
 ],
 "metadata": {
  "kernelspec": {
   "display_name": "Python 3 (ipykernel)",
   "language": "python",
   "name": "python3"
  },
  "language_info": {
   "codemirror_mode": {
    "name": "ipython",
    "version": 3
   },
   "file_extension": ".py",
   "mimetype": "text/x-python",
   "name": "python",
   "nbconvert_exporter": "python",
   "pygments_lexer": "ipython3",
   "version": "3.9.12"
  }
 },
 "nbformat": 4,
 "nbformat_minor": 5
}
